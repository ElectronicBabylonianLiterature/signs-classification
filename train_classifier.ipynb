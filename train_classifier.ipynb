{
 "cells": [
  {
   "cell_type": "code",
   "execution_count": 1,
   "metadata": {},
   "outputs": [],
   "source": [
    "from models import model, train_model\n",
    "from torchvision.models import resnet101, ResNet101_Weights\n",
    "from torchvision.datasets import ImageFolder\n",
    "from sklearn.model_selection import train_test_split\n",
    "from torch.utils.data import Subset, ConcatDataset\n",
    "import numpy as np\n",
    "import torch\n",
    "np.random.seed(0)"
   ]
  },
  {
   "cell_type": "code",
   "execution_count": 2,
   "metadata": {},
   "outputs": [
    {
     "name": "stderr",
     "output_type": "stream",
     "text": [
      "e:\\Anaconda\\envs\\Babylon\\Lib\\site-packages\\torchvision\\models\\_utils.py:135: UserWarning: Using 'weights' as positional parameter(s) is deprecated since 0.13 and may be removed in the future. Please use keyword parameter(s) instead.\n",
      "  warnings.warn(\n"
     ]
    }
   ],
   "source": [
    "resnet_101 = model.Model(resnet101(ResNet101_Weights.IMAGENET1K_V2).to('cuda'))\n"
   ]
  },
  {
   "cell_type": "code",
   "execution_count": 3,
   "metadata": {},
   "outputs": [],
   "source": [
    "data = ImageFolder('data_retrieval/data', ResNet101_Weights.IMAGENET1K_V2.transforms())"
   ]
  },
  {
   "cell_type": "code",
   "execution_count": 4,
   "metadata": {},
   "outputs": [],
   "source": [
    "k_fold_train = []\n",
    "k_fold_val = []\n",
    "k_fold_test = []\n",
    "for i in range(5):\n",
    "    targets = data.targets\n",
    "    train_indices, test_val_indices = train_test_split(np.arange(len(targets)), stratify=targets, train_size=0.65)\n",
    "    train_data = Subset(data, indices=train_indices)\n",
    "    targets = np.array(targets)\n",
    "    test_val_targets = targets[test_val_indices]\n",
    "    test_indices, val_indices = train_test_split(np.arange(len(test_val_targets)), stratify=test_val_targets, train_size=0.57)\n",
    "    val_data, test_data = Subset(data, indices=val_indices), Subset(data, indices=test_indices)\n",
    "    k_fold_train.append(train_data)\n",
    "    k_fold_val.append(val_data)\n",
    "    k_fold_test.append(test_data)"
   ]
  },
  {
   "cell_type": "code",
   "execution_count": 5,
   "metadata": {},
   "outputs": [
    {
     "name": "stdout",
     "output_type": "stream",
     "text": [
      "Length of train set: 5395\n",
      "Length of val set: 1250\n",
      "Length of test set: 1656\n"
     ]
    }
   ],
   "source": [
    "print(\"Length of train set:\", len(train_data))\n",
    "print(\"Length of val set:\", len(val_data))\n",
    "print(\"Length of test set:\", len(test_data))"
   ]
  },
  {
   "cell_type": "code",
   "execution_count": 7,
   "metadata": {},
   "outputs": [
    {
     "data": {
      "text/plain": [
       "['E_Neo-Assyrian',\n",
       " 'E_Neo-Babylonian',\n",
       " 'GAR_Neo-Assyrian',\n",
       " 'GAR_Neo-Babylonian',\n",
       " 'KA_Neo-Assyrian',\n",
       " 'KA_Neo-Babylonian',\n",
       " 'KI_Neo-Assyrian',\n",
       " 'KI_Neo-Babylonian',\n",
       " 'MEŠ_Neo-Assyrian',\n",
       " 'MEŠ_Neo-Babylonian',\n",
       " 'NI_Neo-Assyrian',\n",
       " 'NI_Neo-Babylonian',\n",
       " 'RU_Neo-Assyrian',\n",
       " 'RU_Neo-Babylonian',\n",
       " 'TA_Neo-Assyrian',\n",
       " 'TA_Neo-Babylonian',\n",
       " 'TI_Neo-Assyrian',\n",
       " 'TI_Neo-Babylonian',\n",
       " 'U₂_Neo-Assyrian',\n",
       " 'U₂_Neo-Babylonian',\n",
       " 'ŠU_Neo-Assyrian',\n",
       " 'ŠU_Neo-Babylonian']"
      ]
     },
     "execution_count": 7,
     "metadata": {},
     "output_type": "execute_result"
    }
   ],
   "source": [
    "k_fold_train[0].dataset.classes"
   ]
  },
  {
   "cell_type": "code",
   "execution_count": 6,
   "metadata": {},
   "outputs": [
    {
     "name": "stderr",
     "output_type": "stream",
     "text": [
      "e:\\Anaconda\\envs\\Babylon\\Lib\\site-packages\\torchvision\\models\\_utils.py:135: UserWarning: Using 'weights' as positional parameter(s) is deprecated since 0.13 and may be removed in the future. Please use keyword parameter(s) instead.\n",
      "  warnings.warn(\n"
     ]
    },
    {
     "name": "stdout",
     "output_type": "stream",
     "text": [
      "1-k Fold\n"
     ]
    },
    {
     "name": "stderr",
     "output_type": "stream",
     "text": [
      "  0%|          | 0/100 [00:00<?, ?it/s]"
     ]
    },
    {
     "name": "stdout",
     "output_type": "stream",
     "text": [
      "Epoch 1 \t\t Training Loss: 1.748603570831598 \t\t Validation Loss: 0.9565702722042422\n",
      "Validation Loss Decreased(inf--->75.569052) \t Saving The Model\n"
     ]
    },
    {
     "name": "stderr",
     "output_type": "stream",
     "text": [
      "  1%|          | 1/100 [02:47<4:37:03, 167.91s/it]"
     ]
    },
    {
     "name": "stdout",
     "output_type": "stream",
     "text": [
      "Epoch 2 \t\t Training Loss: 0.7017712331426567 \t\t Validation Loss: 0.7572139407260509\n",
      "Validation Loss Decreased(75.569052--->59.819901) \t Saving The Model\n"
     ]
    },
    {
     "name": "stderr",
     "output_type": "stream",
     "text": [
      "  2%|▏         | 2/100 [06:52<5:48:20, 213.27s/it]"
     ]
    },
    {
     "name": "stdout",
     "output_type": "stream",
     "text": [
      "Epoch 3 \t\t Training Loss: 0.4624946051492141 \t\t Validation Loss: 0.7242032674294484\n",
      "Validation Loss Decreased(59.819901--->57.212058) \t Saving The Model\n"
     ]
    },
    {
     "name": "stderr",
     "output_type": "stream",
     "text": [
      "  3%|▎         | 3/100 [10:51<6:03:20, 224.75s/it]"
     ]
    },
    {
     "name": "stdout",
     "output_type": "stream",
     "text": [
      "Epoch 4 \t\t Training Loss: 0.305980304680412 \t\t Validation Loss: 0.6020687348857711\n",
      "Validation Loss Decreased(57.212058--->47.563430) \t Saving The Model\n"
     ]
    },
    {
     "name": "stderr",
     "output_type": "stream",
     "text": [
      "  4%|▍         | 4/100 [14:51<6:09:31, 230.96s/it]"
     ]
    },
    {
     "name": "stdout",
     "output_type": "stream",
     "text": [
      "Epoch 5 \t\t Training Loss: 0.2586901690053186 \t\t Validation Loss: 0.5457274201267128\n",
      "Validation Loss Decreased(47.563430--->43.112466) \t Saving The Model\n"
     ]
    },
    {
     "name": "stderr",
     "output_type": "stream",
     "text": [
      "  5%|▌         | 5/100 [18:49<6:09:33, 233.40s/it]"
     ]
    },
    {
     "name": "stdout",
     "output_type": "stream",
     "text": [
      "Epoch 6 \t\t Training Loss: 0.240674438140322 \t\t Validation Loss: 0.30506293033544396\n",
      "Validation Loss Decreased(43.112466--->24.099971) \t Saving The Model\n"
     ]
    },
    {
     "name": "stderr",
     "output_type": "stream",
     "text": [
      "  7%|▋         | 7/100 [26:31<5:59:09, 231.72s/it]"
     ]
    },
    {
     "name": "stdout",
     "output_type": "stream",
     "text": [
      "Epoch 7 \t\t Training Loss: 0.15838324842484083 \t\t Validation Loss: 0.4439697448824403\n"
     ]
    },
    {
     "name": "stderr",
     "output_type": "stream",
     "text": [
      "  8%|▊         | 8/100 [30:01<5:45:00, 225.01s/it]"
     ]
    },
    {
     "name": "stdout",
     "output_type": "stream",
     "text": [
      "Epoch 8 \t\t Training Loss: 0.14500989089651067 \t\t Validation Loss: 0.3998617418917173\n"
     ]
    },
    {
     "name": "stderr",
     "output_type": "stream",
     "text": [
      "  9%|▉         | 9/100 [33:34<5:35:34, 221.26s/it]"
     ]
    },
    {
     "name": "stdout",
     "output_type": "stream",
     "text": [
      "Epoch 9 \t\t Training Loss: 0.16451697112281516 \t\t Validation Loss: 0.38249070884046865\n"
     ]
    },
    {
     "name": "stderr",
     "output_type": "stream",
     "text": [
      " 10%|█         | 10/100 [37:08<5:28:18, 218.87s/it]"
     ]
    },
    {
     "name": "stdout",
     "output_type": "stream",
     "text": [
      "Epoch 10 \t\t Training Loss: 0.10657800911593708 \t\t Validation Loss: 0.4339512822371495\n"
     ]
    },
    {
     "name": "stderr",
     "output_type": "stream",
     "text": [
      " 10%|█         | 10/100 [40:34<6:05:08, 243.43s/it]"
     ]
    },
    {
     "name": "stdout",
     "output_type": "stream",
     "text": [
      "Epoch 11 \t\t Training Loss: 0.10080614379182122 \t\t Validation Loss: 0.5113189142592298\n",
      "Training stopped\n"
     ]
    },
    {
     "name": "stderr",
     "output_type": "stream",
     "text": [
      "\n"
     ]
    },
    {
     "name": "stdout",
     "output_type": "stream",
     "text": [
      "2-k Fold\n"
     ]
    },
    {
     "name": "stderr",
     "output_type": "stream",
     "text": [
      "  0%|          | 0/100 [00:00<?, ?it/s]"
     ]
    },
    {
     "name": "stdout",
     "output_type": "stream",
     "text": [
      "Epoch 1 \t\t Training Loss: 1.77818929514236 \t\t Validation Loss: 1.2604998561400402\n",
      "Validation Loss Decreased(inf--->99.579489) \t Saving The Model\n"
     ]
    },
    {
     "name": "stderr",
     "output_type": "stream",
     "text": [
      "  1%|          | 1/100 [03:45<6:11:46, 225.32s/it]"
     ]
    },
    {
     "name": "stdout",
     "output_type": "stream",
     "text": [
      "Epoch 2 \t\t Training Loss: 0.672010054999202 \t\t Validation Loss: 0.9983336065388932\n",
      "Validation Loss Decreased(99.579489--->78.868355) \t Saving The Model\n"
     ]
    },
    {
     "name": "stderr",
     "output_type": "stream",
     "text": [
      "  2%|▏         | 2/100 [07:24<6:01:55, 221.58s/it]"
     ]
    },
    {
     "name": "stdout",
     "output_type": "stream",
     "text": [
      "Epoch 3 \t\t Training Loss: 0.4621448283519089 \t\t Validation Loss: 0.7900444065468221\n",
      "Validation Loss Decreased(78.868355--->62.413508) \t Saving The Model\n"
     ]
    },
    {
     "name": "stderr",
     "output_type": "stream",
     "text": [
      "  3%|▎         | 3/100 [10:59<5:53:16, 218.52s/it]"
     ]
    },
    {
     "name": "stdout",
     "output_type": "stream",
     "text": [
      "Epoch 4 \t\t Training Loss: 0.342696985800216 \t\t Validation Loss: 0.6278461997833433\n",
      "Validation Loss Decreased(62.413508--->49.599850) \t Saving The Model\n"
     ]
    },
    {
     "name": "stderr",
     "output_type": "stream",
     "text": [
      "  4%|▍         | 4/100 [14:39<5:50:55, 219.33s/it]"
     ]
    },
    {
     "name": "stdout",
     "output_type": "stream",
     "text": [
      "Epoch 5 \t\t Training Loss: 0.24070409785669583 \t\t Validation Loss: 0.39749216988588437\n",
      "Validation Loss Decreased(49.599850--->31.401881) \t Saving The Model\n"
     ]
    },
    {
     "name": "stderr",
     "output_type": "stream",
     "text": [
      "  6%|▌         | 6/100 [22:11<5:51:31, 224.38s/it]"
     ]
    },
    {
     "name": "stdout",
     "output_type": "stream",
     "text": [
      "Epoch 6 \t\t Training Loss: 0.21285820641202202 \t\t Validation Loss: 0.4219454711986871\n"
     ]
    },
    {
     "name": "stderr",
     "output_type": "stream",
     "text": [
      "  7%|▋         | 7/100 [26:43<6:11:39, 239.78s/it]"
     ]
    },
    {
     "name": "stdout",
     "output_type": "stream",
     "text": [
      "Epoch 7 \t\t Training Loss: 0.16142640026153984 \t\t Validation Loss: 0.46895904716434356\n"
     ]
    },
    {
     "name": "stderr",
     "output_type": "stream",
     "text": [
      "  8%|▊         | 8/100 [31:31<6:31:16, 255.18s/it]"
     ]
    },
    {
     "name": "stdout",
     "output_type": "stream",
     "text": [
      "Epoch 8 \t\t Training Loss: 0.1417048625016348 \t\t Validation Loss: 0.5889173597097397\n",
      "Epoch 9 \t\t Training Loss: 0.15715951001073217 \t\t Validation Loss: 0.3918957827211935\n",
      "Validation Loss Decreased(31.401881--->30.959767) \t Saving The Model\n"
     ]
    },
    {
     "name": "stderr",
     "output_type": "stream",
     "text": [
      " 10%|█         | 10/100 [41:07<6:48:37, 272.42s/it]"
     ]
    },
    {
     "name": "stdout",
     "output_type": "stream",
     "text": [
      "Epoch 10 \t\t Training Loss: 0.14517090113154343 \t\t Validation Loss: 0.4247766455659006\n",
      "Epoch 11 \t\t Training Loss: 0.11504915738361199 \t\t Validation Loss: 0.30290061893248105\n",
      "Validation Loss Decreased(30.959767--->23.929149) \t Saving The Model\n"
     ]
    },
    {
     "name": "stderr",
     "output_type": "stream",
     "text": [
      " 12%|█▏        | 12/100 [49:32<6:24:19, 262.04s/it]"
     ]
    },
    {
     "name": "stdout",
     "output_type": "stream",
     "text": [
      "Epoch 12 \t\t Training Loss: 0.04120302860991555 \t\t Validation Loss: 0.3049396528756317\n"
     ]
    },
    {
     "name": "stderr",
     "output_type": "stream",
     "text": [
      " 13%|█▎        | 13/100 [53:47<6:16:36, 259.73s/it]"
     ]
    },
    {
     "name": "stdout",
     "output_type": "stream",
     "text": [
      "Epoch 13 \t\t Training Loss: 0.10913251044059732 \t\t Validation Loss: 0.48003236932939364\n"
     ]
    },
    {
     "name": "stderr",
     "output_type": "stream",
     "text": [
      " 14%|█▍        | 14/100 [58:01<6:09:53, 258.07s/it]"
     ]
    },
    {
     "name": "stdout",
     "output_type": "stream",
     "text": [
      "Epoch 14 \t\t Training Loss: 0.09793327286602026 \t\t Validation Loss: 0.47575003498740775\n"
     ]
    },
    {
     "name": "stderr",
     "output_type": "stream",
     "text": [
      " 15%|█▌        | 15/100 [1:02:18<6:05:05, 257.71s/it]"
     ]
    },
    {
     "name": "stdout",
     "output_type": "stream",
     "text": [
      "Epoch 15 \t\t Training Loss: 0.1071109500212165 \t\t Validation Loss: 0.3507090239738456\n"
     ]
    },
    {
     "name": "stderr",
     "output_type": "stream",
     "text": [
      " 15%|█▌        | 15/100 [1:06:34<6:17:14, 266.29s/it]"
     ]
    },
    {
     "name": "stdout",
     "output_type": "stream",
     "text": [
      "Epoch 16 \t\t Training Loss: 0.0783575512241495 \t\t Validation Loss: 0.35702482924525497\n",
      "Training stopped\n"
     ]
    },
    {
     "name": "stderr",
     "output_type": "stream",
     "text": [
      "\n"
     ]
    },
    {
     "name": "stdout",
     "output_type": "stream",
     "text": [
      "3-k Fold\n"
     ]
    },
    {
     "name": "stderr",
     "output_type": "stream",
     "text": [
      "  0%|          | 0/100 [00:00<?, ?it/s]"
     ]
    },
    {
     "name": "stdout",
     "output_type": "stream",
     "text": [
      "Epoch 1 \t\t Training Loss: 1.7671716219398397 \t\t Validation Loss: 1.0792869850050044\n",
      "Validation Loss Decreased(inf--->85.263672) \t Saving The Model\n"
     ]
    },
    {
     "name": "stderr",
     "output_type": "stream",
     "text": [
      "  1%|          | 1/100 [04:51<8:01:08, 291.61s/it]"
     ]
    },
    {
     "name": "stdout",
     "output_type": "stream",
     "text": [
      "Epoch 2 \t\t Training Loss: 0.7052855139609272 \t\t Validation Loss: 0.5923086704709862\n",
      "Validation Loss Decreased(85.263672--->46.792385) \t Saving The Model\n"
     ]
    },
    {
     "name": "stderr",
     "output_type": "stream",
     "text": [
      "  3%|▎         | 3/100 [14:03<7:31:56, 279.56s/it]"
     ]
    },
    {
     "name": "stdout",
     "output_type": "stream",
     "text": [
      "Epoch 3 \t\t Training Loss: 0.4610172567459253 \t\t Validation Loss: 0.6519524666327464\n",
      "Epoch 4 \t\t Training Loss: 0.34455456190670913 \t\t Validation Loss: 0.5149466469883919\n",
      "Validation Loss Decreased(46.792385--->40.680785) \t Saving The Model\n"
     ]
    },
    {
     "name": "stderr",
     "output_type": "stream",
     "text": [
      "  5%|▌         | 5/100 [23:46<7:35:34, 287.73s/it]"
     ]
    },
    {
     "name": "stdout",
     "output_type": "stream",
     "text": [
      "Epoch 5 \t\t Training Loss: 0.24461105587677315 \t\t Validation Loss: 0.5192431741500203\n"
     ]
    },
    {
     "name": "stderr",
     "output_type": "stream",
     "text": [
      "  6%|▌         | 6/100 [29:13<7:51:59, 301.27s/it]"
     ]
    },
    {
     "name": "stdout",
     "output_type": "stream",
     "text": [
      "Epoch 6 \t\t Training Loss: 0.19396485408117786 \t\t Validation Loss: 0.7716442737964135\n",
      "Epoch 7 \t\t Training Loss: 0.17648819455058595 \t\t Validation Loss: 0.44642678063504304\n",
      "Validation Loss Decreased(40.680785--->35.267716) \t Saving The Model\n"
     ]
    },
    {
     "name": "stderr",
     "output_type": "stream",
     "text": [
      "  7%|▋         | 7/100 [34:46<8:03:09, 311.72s/it]"
     ]
    },
    {
     "name": "stdout",
     "output_type": "stream",
     "text": [
      "Epoch 8 \t\t Training Loss: 0.17427769837523507 \t\t Validation Loss: 0.38980534767637715\n",
      "Validation Loss Decreased(35.267716--->30.794622) \t Saving The Model\n"
     ]
    },
    {
     "name": "stderr",
     "output_type": "stream",
     "text": [
      "  8%|▊         | 8/100 [40:24<8:10:35, 319.95s/it]"
     ]
    },
    {
     "name": "stdout",
     "output_type": "stream",
     "text": [
      "Epoch 9 \t\t Training Loss: 0.12414921741893366 \t\t Validation Loss: 0.27891420950240725\n",
      "Validation Loss Decreased(30.794622--->22.034223) \t Saving The Model\n"
     ]
    },
    {
     "name": "stderr",
     "output_type": "stream",
     "text": [
      " 10%|█         | 10/100 [51:37<8:13:02, 328.70s/it]"
     ]
    },
    {
     "name": "stdout",
     "output_type": "stream",
     "text": [
      "Epoch 10 \t\t Training Loss: 0.11679202592973019 \t\t Validation Loss: 0.44285777876082855\n"
     ]
    },
    {
     "name": "stderr",
     "output_type": "stream",
     "text": [
      " 11%|█         | 11/100 [57:13<8:10:44, 330.84s/it]"
     ]
    },
    {
     "name": "stdout",
     "output_type": "stream",
     "text": [
      "Epoch 11 \t\t Training Loss: 0.116175491730655 \t\t Validation Loss: 0.42079998365650545\n"
     ]
    },
    {
     "name": "stderr",
     "output_type": "stream",
     "text": [
      " 12%|█▏        | 12/100 [1:02:52<8:09:12, 333.55s/it]"
     ]
    },
    {
     "name": "stdout",
     "output_type": "stream",
     "text": [
      "Epoch 12 \t\t Training Loss: 0.11362342904294295 \t\t Validation Loss: 0.44431386559117064\n"
     ]
    },
    {
     "name": "stderr",
     "output_type": "stream",
     "text": [
      " 13%|█▎        | 13/100 [1:08:48<8:13:29, 340.34s/it]"
     ]
    },
    {
     "name": "stdout",
     "output_type": "stream",
     "text": [
      "Epoch 13 \t\t Training Loss: 0.043421804849227155 \t\t Validation Loss: 0.31071779590182574\n"
     ]
    },
    {
     "name": "stderr",
     "output_type": "stream",
     "text": [
      " 13%|█▎        | 13/100 [1:14:48<8:20:37, 345.26s/it]"
     ]
    },
    {
     "name": "stdout",
     "output_type": "stream",
     "text": [
      "Epoch 14 \t\t Training Loss: 0.10496382344145254 \t\t Validation Loss: 0.6498423789073772\n",
      "Training stopped\n"
     ]
    },
    {
     "name": "stderr",
     "output_type": "stream",
     "text": [
      "\n"
     ]
    },
    {
     "name": "stdout",
     "output_type": "stream",
     "text": [
      "4-k Fold\n"
     ]
    },
    {
     "name": "stderr",
     "output_type": "stream",
     "text": [
      "  0%|          | 0/100 [00:00<?, ?it/s]"
     ]
    },
    {
     "name": "stdout",
     "output_type": "stream",
     "text": [
      "Epoch 1 \t\t Training Loss: 1.7655891158215746 \t\t Validation Loss: 1.1220053238204764\n",
      "Validation Loss Decreased(inf--->88.638421) \t Saving The Model\n"
     ]
    },
    {
     "name": "stderr",
     "output_type": "stream",
     "text": [
      "  1%|          | 1/100 [06:11<10:13:19, 371.71s/it]"
     ]
    },
    {
     "name": "stdout",
     "output_type": "stream",
     "text": [
      "Epoch 2 \t\t Training Loss: 0.6793907421844951 \t\t Validation Loss: 0.8506918362801588\n",
      "Validation Loss Decreased(88.638421--->67.204655) \t Saving The Model\n"
     ]
    },
    {
     "name": "stderr",
     "output_type": "stream",
     "text": [
      "  2%|▏         | 2/100 [12:29<10:12:33, 375.03s/it]"
     ]
    },
    {
     "name": "stdout",
     "output_type": "stream",
     "text": [
      "Epoch 3 \t\t Training Loss: 0.4414314353761412 \t\t Validation Loss: 0.5581795986317382\n",
      "Validation Loss Decreased(67.204655--->44.096188) \t Saving The Model\n"
     ]
    },
    {
     "name": "stderr",
     "output_type": "stream",
     "text": [
      "  4%|▍         | 4/100 [24:46<9:53:26, 370.90s/it] "
     ]
    },
    {
     "name": "stdout",
     "output_type": "stream",
     "text": [
      "Epoch 4 \t\t Training Loss: 0.33287787233677707 \t\t Validation Loss: 0.588802079139631\n",
      "Epoch 5 \t\t Training Loss: 0.24020695171908601 \t\t Validation Loss: 0.3819833315343042\n",
      "Validation Loss Decreased(44.096188--->30.176683) \t Saving The Model\n"
     ]
    },
    {
     "name": "stderr",
     "output_type": "stream",
     "text": [
      "  6%|▌         | 6/100 [36:59<9:37:52, 368.86s/it]"
     ]
    },
    {
     "name": "stdout",
     "output_type": "stream",
     "text": [
      "Epoch 6 \t\t Training Loss: 0.20718697909976647 \t\t Validation Loss: 0.44992144943415363\n"
     ]
    },
    {
     "name": "stderr",
     "output_type": "stream",
     "text": [
      "  7%|▋         | 7/100 [43:11<9:33:21, 369.91s/it]"
     ]
    },
    {
     "name": "stdout",
     "output_type": "stream",
     "text": [
      "Epoch 7 \t\t Training Loss: 0.1615103996198999 \t\t Validation Loss: 0.5705575113526627\n",
      "Epoch 8 \t\t Training Loss: 0.16899456700431348 \t\t Validation Loss: 0.37279068537150756\n",
      "Validation Loss Decreased(30.176683--->29.450464) \t Saving The Model\n"
     ]
    },
    {
     "name": "stderr",
     "output_type": "stream",
     "text": [
      "  9%|▉         | 9/100 [55:19<9:15:09, 366.04s/it]"
     ]
    },
    {
     "name": "stdout",
     "output_type": "stream",
     "text": [
      "Epoch 9 \t\t Training Loss: 0.106421416339853 \t\t Validation Loss: 0.43183310471380815\n"
     ]
    },
    {
     "name": "stderr",
     "output_type": "stream",
     "text": [
      " 10%|█         | 10/100 [1:01:00<8:57:20, 358.23s/it]"
     ]
    },
    {
     "name": "stdout",
     "output_type": "stream",
     "text": [
      "Epoch 10 \t\t Training Loss: 0.12171445766494185 \t\t Validation Loss: 0.39959742685284794\n",
      "Epoch 11 \t\t Training Loss: 0.08345209094923067 \t\t Validation Loss: 0.36424754293564754\n",
      "Validation Loss Decreased(29.450464--->28.775556) \t Saving The Model\n"
     ]
    },
    {
     "name": "stderr",
     "output_type": "stream",
     "text": [
      " 11%|█         | 11/100 [1:09:29<9:22:15, 379.05s/it]\n"
     ]
    },
    {
     "ename": "KeyboardInterrupt",
     "evalue": "",
     "output_type": "error",
     "traceback": [
      "\u001b[1;31m---------------------------------------------------------------------------\u001b[0m",
      "\u001b[1;31mKeyboardInterrupt\u001b[0m                         Traceback (most recent call last)",
      "\u001b[1;32me:\\Babylon\\github\\signs-classification\\train_classifier.ipynb Cell 6\u001b[0m line \u001b[0;36m4\n\u001b[0;32m      <a href='vscode-notebook-cell:/e%3A/Babylon/github/signs-classification/train_classifier.ipynb#X13sZmlsZQ%3D%3D?line=1'>2</a>\u001b[0m resnet_101 \u001b[39m=\u001b[39m model\u001b[39m.\u001b[39mModel(resnet101(ResNet101_Weights\u001b[39m.\u001b[39mIMAGENET1K_V2)\u001b[39m.\u001b[39mto(\u001b[39m'\u001b[39m\u001b[39mcuda\u001b[39m\u001b[39m'\u001b[39m))\n\u001b[0;32m      <a href='vscode-notebook-cell:/e%3A/Babylon/github/signs-classification/train_classifier.ipynb#X13sZmlsZQ%3D%3D?line=2'>3</a>\u001b[0m \u001b[39mprint\u001b[39m(\u001b[39mf\u001b[39m\u001b[39m'\u001b[39m\u001b[39m{\u001b[39;00mi\u001b[39m}\u001b[39;00m\u001b[39m-k Fold\u001b[39m\u001b[39m'\u001b[39m)\n\u001b[1;32m----> <a href='vscode-notebook-cell:/e%3A/Babylon/github/signs-classification/train_classifier.ipynb#X13sZmlsZQ%3D%3D?line=3'>4</a>\u001b[0m train_model\u001b[39m.\u001b[39mtrain_model(k_fold_train[i], k_fold_val[i], resnet_101, \u001b[39mf\u001b[39m\u001b[39m'\u001b[39m\u001b[39mmodels/models_weights/k_fold_models/resnet101_all_data_\u001b[39m\u001b[39m{\u001b[39;00mi\u001b[39m}\u001b[39;00m\u001b[39m.pth\u001b[39m\u001b[39m'\u001b[39m, epochs\u001b[39m=\u001b[39m\u001b[39m100\u001b[39m)\n\u001b[0;32m      <a href='vscode-notebook-cell:/e%3A/Babylon/github/signs-classification/train_classifier.ipynb#X13sZmlsZQ%3D%3D?line=4'>5</a>\u001b[0m \u001b[39mdel\u001b[39;00m resnet_101\n",
      "File \u001b[1;32me:\\Babylon\\github\\signs-classification\\models\\train_model.py:24\u001b[0m, in \u001b[0;36mtrain_model\u001b[1;34m(train_data, val_data, model, trained_model_path, batch_size, epochs, tol)\u001b[0m\n\u001b[0;32m     22\u001b[0m     loss\u001b[39m.\u001b[39mbackward()\n\u001b[0;32m     23\u001b[0m     model\u001b[39m.\u001b[39moptimizer\u001b[39m.\u001b[39mstep()\n\u001b[1;32m---> 24\u001b[0m     train_loss \u001b[39m+\u001b[39m\u001b[39m=\u001b[39m loss\u001b[39m.\u001b[39mitem()\n\u001b[0;32m     25\u001b[0m val_loss \u001b[39m=\u001b[39m \u001b[39m0.0\u001b[39m\n\u001b[0;32m     26\u001b[0m \u001b[39mfor\u001b[39;00m data, labels \u001b[39min\u001b[39;00m val_loader:\n",
      "\u001b[1;31mKeyboardInterrupt\u001b[0m: "
     ]
    }
   ],
   "source": [
    "for i in range(1,len(k_fold_val)):\n",
    "    resnet_101 = model.Model(resnet101(ResNet101_Weights.IMAGENET1K_V2).to('cuda'))\n",
    "    print(f'{i}-k Fold')\n",
    "    train_model.train_model(k_fold_train[i], k_fold_val[i], resnet_101, f'models/models_weights/k_fold_models/resnet101_all_data_{i}.pth', epochs=100)\n",
    "    del resnet_101"
   ]
  }
 ],
 "metadata": {
  "kernelspec": {
   "display_name": "Babylon",
   "language": "python",
   "name": "python3"
  },
  "language_info": {
   "codemirror_mode": {
    "name": "ipython",
    "version": 3
   },
   "file_extension": ".py",
   "mimetype": "text/x-python",
   "name": "python",
   "nbconvert_exporter": "python",
   "pygments_lexer": "ipython3",
   "version": "3.11.4"
  },
  "orig_nbformat": 4
 },
 "nbformat": 4,
 "nbformat_minor": 2
}
