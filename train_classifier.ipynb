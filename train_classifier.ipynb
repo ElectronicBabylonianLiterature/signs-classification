{
 "cells": [
  {
   "cell_type": "code",
   "execution_count": 1,
   "metadata": {},
   "outputs": [],
   "source": [
    "from models import model, train_model\n",
    "from torchvision.models import resnet101, ResNet101_Weights\n",
    "from torchvision.datasets import ImageFolder\n",
    "from sklearn.model_selection import train_test_split\n",
    "from torch.utils.data import Subset, ConcatDataset\n",
    "import numpy as np\n",
    "import torch"
   ]
  },
  {
   "cell_type": "code",
   "execution_count": 2,
   "metadata": {},
   "outputs": [
    {
     "name": "stderr",
     "output_type": "stream",
     "text": [
      "e:\\Anaconda\\envs\\Babylon\\Lib\\site-packages\\torchvision\\models\\_utils.py:135: UserWarning: Using 'weights' as positional parameter(s) is deprecated since 0.13 and may be removed in the future. Please use keyword parameter(s) instead.\n",
      "  warnings.warn(\n"
     ]
    }
   ],
   "source": [
    "resnet_101 = model.Model(resnet101(ResNet101_Weights.IMAGENET1K_V2).to('cuda'))\n",
    "    "
   ]
  },
  {
   "cell_type": "code",
   "execution_count": 3,
   "metadata": {},
   "outputs": [],
   "source": [
    "data = ImageFolder('data_retrieval/data', ResNet101_Weights.IMAGENET1K_V2.transforms())"
   ]
  },
  {
   "cell_type": "code",
   "execution_count": 4,
   "metadata": {},
   "outputs": [],
   "source": [
    "targets = data.targets\n",
    "train_indices, test_val_indices = train_test_split(np.arange(len(targets)), stratify=targets, train_size=0.65, random_state=21)\n",
    "train_data = Subset(data, indices=train_indices)"
   ]
  },
  {
   "cell_type": "code",
   "execution_count": 5,
   "metadata": {},
   "outputs": [],
   "source": [
    "targets = np.array(targets)"
   ]
  },
  {
   "cell_type": "code",
   "execution_count": 6,
   "metadata": {},
   "outputs": [
    {
     "name": "stdout",
     "output_type": "stream",
     "text": [
      "2906\n"
     ]
    }
   ],
   "source": [
    "test_val_targets = targets[test_val_indices]\n",
    "print(len(test_val_targets))\n",
    "test_indices, val_indices = train_test_split(np.arange(len(test_val_targets)), stratify=test_val_targets, train_size=0.57, random_state=21)\n",
    "val_data, test_data = Subset(data, indices=val_indices), Subset(data, indices=test_indices)"
   ]
  },
  {
   "cell_type": "code",
   "execution_count": 7,
   "metadata": {},
   "outputs": [
    {
     "name": "stdout",
     "output_type": "stream",
     "text": [
      "Length of train set: 5395\n",
      "Length of val set: 1250\n",
      "Length of test set: 1656\n"
     ]
    }
   ],
   "source": [
    "print(\"Length of train set:\", len(train_data))\n",
    "print(\"Length of val set:\", len(val_data))\n",
    "print(\"Length of test set:\", len(test_data))"
   ]
  },
  {
   "cell_type": "code",
   "execution_count": 8,
   "metadata": {},
   "outputs": [
    {
     "name": "stderr",
     "output_type": "stream",
     "text": [
      "  0%|          | 0/100 [00:00<?, ?it/s]"
     ]
    },
    {
     "name": "stdout",
     "output_type": "stream",
     "text": [
      "Epoch 1 \t\t Training Loss: 1.7843935309782537 \t\t Validation Loss: 1.009716650730447\n",
      "Validation Loss Decreased(inf--->79.767615) \t Saving The Model\n"
     ]
    },
    {
     "name": "stderr",
     "output_type": "stream",
     "text": [
      "  1%|          | 1/100 [02:26<4:01:55, 146.63s/it]"
     ]
    },
    {
     "name": "stdout",
     "output_type": "stream",
     "text": [
      "Epoch 2 \t\t Training Loss: 0.709663976931713 \t\t Validation Loss: 0.782631752234471\n",
      "Validation Loss Decreased(79.767615--->61.827908) \t Saving The Model\n"
     ]
    },
    {
     "name": "stderr",
     "output_type": "stream",
     "text": [
      "  3%|▎         | 3/100 [09:15<5:10:07, 191.83s/it]"
     ]
    },
    {
     "name": "stdout",
     "output_type": "stream",
     "text": [
      "Epoch 3 \t\t Training Loss: 0.4466298635244458 \t\t Validation Loss: 0.8449011145136024\n",
      "Epoch 4 \t\t Training Loss: 0.32971275600566136 \t\t Validation Loss: 0.49216199732279475\n",
      "Validation Loss Decreased(61.827908--->38.880798) \t Saving The Model\n"
     ]
    },
    {
     "name": "stderr",
     "output_type": "stream",
     "text": [
      "  4%|▍         | 4/100 [12:40<5:15:32, 197.21s/it]"
     ]
    },
    {
     "name": "stdout",
     "output_type": "stream",
     "text": [
      "Epoch 5 \t\t Training Loss: 0.2974041271403696 \t\t Validation Loss: 0.4202569467074509\n",
      "Validation Loss Decreased(38.880798--->33.200299) \t Saving The Model\n"
     ]
    },
    {
     "name": "stderr",
     "output_type": "stream",
     "text": [
      "  6%|▌         | 6/100 [18:51<4:58:12, 190.35s/it]"
     ]
    },
    {
     "name": "stdout",
     "output_type": "stream",
     "text": [
      "Epoch 6 \t\t Training Loss: 0.20728501353720094 \t\t Validation Loss: 0.5334810755109485\n"
     ]
    },
    {
     "name": "stderr",
     "output_type": "stream",
     "text": [
      "  7%|▋         | 7/100 [21:55<4:51:30, 188.07s/it]"
     ]
    },
    {
     "name": "stdout",
     "output_type": "stream",
     "text": [
      "Epoch 7 \t\t Training Loss: 0.1636491285674219 \t\t Validation Loss: 0.4950397872849356\n",
      "Epoch 8 \t\t Training Loss: 0.15705411972859654 \t\t Validation Loss: 0.38898348798857457\n",
      "Validation Loss Decreased(33.200299--->30.729696) \t Saving The Model\n"
     ]
    },
    {
     "name": "stderr",
     "output_type": "stream",
     "text": [
      "  8%|▊         | 8/100 [24:53<4:43:31, 184.90s/it]"
     ]
    },
    {
     "name": "stdout",
     "output_type": "stream",
     "text": [
      "Epoch 9 \t\t Training Loss: 0.1426147409430953 \t\t Validation Loss: 0.27055692458761077\n",
      "Validation Loss Decreased(30.729696--->21.373997) \t Saving The Model\n"
     ]
    },
    {
     "name": "stderr",
     "output_type": "stream",
     "text": [
      " 10%|█         | 10/100 [31:11<4:41:07, 187.41s/it]"
     ]
    },
    {
     "name": "stdout",
     "output_type": "stream",
     "text": [
      "Epoch 10 \t\t Training Loss: 0.09411553116708156 \t\t Validation Loss: 0.5563615283256844\n"
     ]
    },
    {
     "name": "stderr",
     "output_type": "stream",
     "text": [
      " 11%|█         | 11/100 [34:21<4:39:15, 188.27s/it]"
     ]
    },
    {
     "name": "stdout",
     "output_type": "stream",
     "text": [
      "Epoch 11 \t\t Training Loss: 0.10135395715313485 \t\t Validation Loss: 0.27557132209214985\n"
     ]
    },
    {
     "name": "stderr",
     "output_type": "stream",
     "text": [
      " 12%|█▏        | 12/100 [37:34<4:38:05, 189.61s/it]"
     ]
    },
    {
     "name": "stdout",
     "output_type": "stream",
     "text": [
      "Epoch 12 \t\t Training Loss: 0.14006939486923528 \t\t Validation Loss: 0.2813977447067258\n"
     ]
    },
    {
     "name": "stderr",
     "output_type": "stream",
     "text": [
      " 13%|█▎        | 13/100 [40:50<4:37:53, 191.65s/it]"
     ]
    },
    {
     "name": "stdout",
     "output_type": "stream",
     "text": [
      "Epoch 13 \t\t Training Loss: 0.08108811661912425 \t\t Validation Loss: 0.31383040661723177\n"
     ]
    },
    {
     "name": "stderr",
     "output_type": "stream",
     "text": [
      " 14%|█▍        | 14/100 [44:03<4:35:25, 192.16s/it]"
     ]
    },
    {
     "name": "stdout",
     "output_type": "stream",
     "text": [
      "Epoch 14 \t\t Training Loss: 0.06748670100765033 \t\t Validation Loss: 0.3994831394380595\n"
     ]
    },
    {
     "name": "stderr",
     "output_type": "stream",
     "text": [
      " 15%|█▌        | 15/100 [47:19<4:33:32, 193.08s/it]"
     ]
    },
    {
     "name": "stdout",
     "output_type": "stream",
     "text": [
      "Epoch 15 \t\t Training Loss: 0.08619105586227661 \t\t Validation Loss: 0.3236559299704961\n"
     ]
    },
    {
     "name": "stderr",
     "output_type": "stream",
     "text": [
      " 16%|█▌        | 16/100 [50:29<4:29:07, 192.23s/it]"
     ]
    },
    {
     "name": "stdout",
     "output_type": "stream",
     "text": [
      "Epoch 16 \t\t Training Loss: 0.05867817965427417 \t\t Validation Loss: 0.2972677813465648\n"
     ]
    },
    {
     "name": "stderr",
     "output_type": "stream",
     "text": [
      " 17%|█▋        | 17/100 [53:43<4:26:32, 192.68s/it]"
     ]
    },
    {
     "name": "stdout",
     "output_type": "stream",
     "text": [
      "Epoch 17 \t\t Training Loss: 0.06488003889522405 \t\t Validation Loss: 0.39945609506832647\n"
     ]
    },
    {
     "name": "stderr",
     "output_type": "stream",
     "text": [
      " 18%|█▊        | 18/100 [56:57<4:24:12, 193.33s/it]"
     ]
    },
    {
     "name": "stdout",
     "output_type": "stream",
     "text": [
      "Epoch 18 \t\t Training Loss: 0.061315090313106745 \t\t Validation Loss: 0.36872221678023853\n"
     ]
    },
    {
     "name": "stderr",
     "output_type": "stream",
     "text": [
      " 19%|█▉        | 19/100 [1:00:13<4:21:58, 194.06s/it]"
     ]
    },
    {
     "name": "stdout",
     "output_type": "stream",
     "text": [
      "Epoch 19 \t\t Training Loss: 0.05854740265595655 \t\t Validation Loss: 0.38287378308846604\n"
     ]
    },
    {
     "name": "stderr",
     "output_type": "stream",
     "text": [
      " 20%|██        | 20/100 [1:03:25<4:17:57, 193.47s/it]"
     ]
    },
    {
     "name": "stdout",
     "output_type": "stream",
     "text": [
      "Epoch 20 \t\t Training Loss: 0.05957969971792979 \t\t Validation Loss: 0.32270316534551874\n"
     ]
    },
    {
     "name": "stderr",
     "output_type": "stream",
     "text": [
      " 21%|██        | 21/100 [1:06:34<4:12:43, 191.94s/it]"
     ]
    },
    {
     "name": "stdout",
     "output_type": "stream",
     "text": [
      "Epoch 21 \t\t Training Loss: 0.07338010763194247 \t\t Validation Loss: 0.3466109975073133\n"
     ]
    },
    {
     "name": "stderr",
     "output_type": "stream",
     "text": [
      " 22%|██▏       | 22/100 [1:09:40<4:07:24, 190.32s/it]"
     ]
    },
    {
     "name": "stdout",
     "output_type": "stream",
     "text": [
      "Epoch 22 \t\t Training Loss: 0.060022856424422795 \t\t Validation Loss: 0.48331704215865723\n",
      "Epoch 23 \t\t Training Loss: 0.03466465049071965 \t\t Validation Loss: 0.2554950987063352\n",
      "Validation Loss Decreased(21.373997--->20.184113) \t Saving The Model\n"
     ]
    },
    {
     "name": "stderr",
     "output_type": "stream",
     "text": [
      " 24%|██▍       | 24/100 [1:15:41<3:53:50, 184.62s/it]"
     ]
    },
    {
     "name": "stdout",
     "output_type": "stream",
     "text": [
      "Epoch 24 \t\t Training Loss: 0.03826141552112939 \t\t Validation Loss: 0.28350944194686306\n",
      "Epoch 25 \t\t Training Loss: 0.02428711993802097 \t\t Validation Loss: 0.25111720180492614\n",
      "Validation Loss Decreased(20.184113--->19.838259) \t Saving The Model\n"
     ]
    },
    {
     "name": "stderr",
     "output_type": "stream",
     "text": [
      " 25%|██▌       | 25/100 [1:18:35<3:46:45, 181.40s/it]"
     ]
    },
    {
     "name": "stdout",
     "output_type": "stream",
     "text": [
      "Epoch 26 \t\t Training Loss: 0.052493438055212185 \t\t Validation Loss: 0.23456740000117954\n",
      "Validation Loss Decreased(19.838259--->18.530825) \t Saving The Model\n"
     ]
    },
    {
     "name": "stderr",
     "output_type": "stream",
     "text": [
      " 27%|██▋       | 27/100 [1:24:22<3:35:45, 177.34s/it]"
     ]
    },
    {
     "name": "stdout",
     "output_type": "stream",
     "text": [
      "Epoch 27 \t\t Training Loss: 0.055075223274416094 \t\t Validation Loss: 0.29397689202311156\n"
     ]
    },
    {
     "name": "stderr",
     "output_type": "stream",
     "text": [
      " 28%|██▊       | 28/100 [1:27:15<3:31:06, 175.92s/it]"
     ]
    },
    {
     "name": "stdout",
     "output_type": "stream",
     "text": [
      "Epoch 28 \t\t Training Loss: 0.03869434376178343 \t\t Validation Loss: 0.27136722545410635\n"
     ]
    },
    {
     "name": "stderr",
     "output_type": "stream",
     "text": [
      " 29%|██▉       | 29/100 [1:30:07<3:27:03, 174.98s/it]"
     ]
    },
    {
     "name": "stdout",
     "output_type": "stream",
     "text": [
      "Epoch 29 \t\t Training Loss: 0.03665938848037099 \t\t Validation Loss: 0.2385136740771417\n"
     ]
    },
    {
     "name": "stderr",
     "output_type": "stream",
     "text": [
      " 30%|███       | 30/100 [1:33:00<3:23:24, 174.34s/it]"
     ]
    },
    {
     "name": "stdout",
     "output_type": "stream",
     "text": [
      "Epoch 30 \t\t Training Loss: 0.07046310519673875 \t\t Validation Loss: 0.2669527943738253\n",
      "Epoch 31 \t\t Training Loss: 0.004770520689981343 \t\t Validation Loss: 0.2231520297016088\n",
      "Validation Loss Decreased(18.530825--->17.629010) \t Saving The Model\n"
     ]
    },
    {
     "name": "stderr",
     "output_type": "stream",
     "text": [
      " 31%|███       | 31/100 [1:35:53<3:19:53, 173.82s/it]"
     ]
    },
    {
     "name": "stdout",
     "output_type": "stream",
     "text": [
      "Epoch 32 \t\t Training Loss: 0.009009625501953545 \t\t Validation Loss: 0.1929723679269863\n",
      "Validation Loss Decreased(17.629010--->15.244817) \t Saving The Model\n"
     ]
    },
    {
     "name": "stderr",
     "output_type": "stream",
     "text": [
      " 33%|███▎      | 33/100 [1:41:39<3:13:33, 173.34s/it]"
     ]
    },
    {
     "name": "stdout",
     "output_type": "stream",
     "text": [
      "Epoch 33 \t\t Training Loss: 0.07287039888184724 \t\t Validation Loss: 0.6973049811889194\n"
     ]
    },
    {
     "name": "stderr",
     "output_type": "stream",
     "text": [
      " 34%|███▍      | 34/100 [1:44:31<3:10:20, 173.04s/it]"
     ]
    },
    {
     "name": "stdout",
     "output_type": "stream",
     "text": [
      "Epoch 34 \t\t Training Loss: 0.06363709924943249 \t\t Validation Loss: 0.2694777459631191\n"
     ]
    },
    {
     "name": "stderr",
     "output_type": "stream",
     "text": [
      " 35%|███▌      | 35/100 [1:47:23<3:07:12, 172.81s/it]"
     ]
    },
    {
     "name": "stdout",
     "output_type": "stream",
     "text": [
      "Epoch 35 \t\t Training Loss: 0.011392615870851825 \t\t Validation Loss: 0.3054583896484957\n"
     ]
    },
    {
     "name": "stderr",
     "output_type": "stream",
     "text": [
      " 36%|███▌      | 36/100 [1:50:16<3:04:13, 172.71s/it]"
     ]
    },
    {
     "name": "stdout",
     "output_type": "stream",
     "text": [
      "Epoch 36 \t\t Training Loss: 0.021073008506682096 \t\t Validation Loss: 0.3286986675502473\n"
     ]
    },
    {
     "name": "stderr",
     "output_type": "stream",
     "text": [
      " 37%|███▋      | 37/100 [1:53:08<3:01:10, 172.54s/it]"
     ]
    },
    {
     "name": "stdout",
     "output_type": "stream",
     "text": [
      "Epoch 37 \t\t Training Loss: 0.06165966493627019 \t\t Validation Loss: 0.20996336431442936\n"
     ]
    },
    {
     "name": "stderr",
     "output_type": "stream",
     "text": [
      " 38%|███▊      | 38/100 [1:56:00<2:58:05, 172.35s/it]"
     ]
    },
    {
     "name": "stdout",
     "output_type": "stream",
     "text": [
      "Epoch 38 \t\t Training Loss: 0.006769188747434055 \t\t Validation Loss: 0.21530679151374563\n",
      "Epoch 39 \t\t Training Loss: 0.001286733476981627 \t\t Validation Loss: 0.17370533721784537\n",
      "Validation Loss Decreased(15.244817--->13.722722) \t Saving The Model\n"
     ]
    },
    {
     "name": "stderr",
     "output_type": "stream",
     "text": [
      " 40%|████      | 40/100 [2:01:54<2:55:16, 175.27s/it]"
     ]
    },
    {
     "name": "stdout",
     "output_type": "stream",
     "text": [
      "Epoch 40 \t\t Training Loss: 0.004288169679934523 \t\t Validation Loss: 0.21097627018522722\n"
     ]
    },
    {
     "name": "stderr",
     "output_type": "stream",
     "text": [
      " 41%|████      | 41/100 [2:05:00<2:55:34, 178.55s/it]"
     ]
    },
    {
     "name": "stdout",
     "output_type": "stream",
     "text": [
      "Epoch 41 \t\t Training Loss: 0.0371189012379473 \t\t Validation Loss: 0.702487129278929\n"
     ]
    },
    {
     "name": "stderr",
     "output_type": "stream",
     "text": [
      " 42%|████▏     | 42/100 [2:07:55<2:51:22, 177.29s/it]"
     ]
    },
    {
     "name": "stdout",
     "output_type": "stream",
     "text": [
      "Epoch 42 \t\t Training Loss: 0.06720247031162163 \t\t Validation Loss: 0.261802852321033\n"
     ]
    },
    {
     "name": "stderr",
     "output_type": "stream",
     "text": [
      " 43%|████▎     | 43/100 [2:10:52<2:48:26, 177.30s/it]"
     ]
    },
    {
     "name": "stdout",
     "output_type": "stream",
     "text": [
      "Epoch 43 \t\t Training Loss: 0.00654994034789659 \t\t Validation Loss: 0.3119486736334843\n"
     ]
    },
    {
     "name": "stderr",
     "output_type": "stream",
     "text": [
      " 44%|████▍     | 44/100 [2:13:56<2:47:20, 179.29s/it]"
     ]
    },
    {
     "name": "stdout",
     "output_type": "stream",
     "text": [
      "Epoch 44 \t\t Training Loss: 0.02241565698395439 \t\t Validation Loss: 0.24516575618299266\n"
     ]
    },
    {
     "name": "stderr",
     "output_type": "stream",
     "text": [
      " 45%|████▌     | 45/100 [2:16:51<2:43:12, 178.04s/it]"
     ]
    },
    {
     "name": "stdout",
     "output_type": "stream",
     "text": [
      "Epoch 45 \t\t Training Loss: 0.006518664727254281 \t\t Validation Loss: 0.2615295400740977\n"
     ]
    },
    {
     "name": "stderr",
     "output_type": "stream",
     "text": [
      " 46%|████▌     | 46/100 [2:19:43<2:38:34, 176.19s/it]"
     ]
    },
    {
     "name": "stdout",
     "output_type": "stream",
     "text": [
      "Epoch 46 \t\t Training Loss: 0.03717644615000027 \t\t Validation Loss: 0.1750523857997767\n"
     ]
    },
    {
     "name": "stderr",
     "output_type": "stream",
     "text": [
      " 47%|████▋     | 47/100 [2:22:35<2:34:26, 174.85s/it]"
     ]
    },
    {
     "name": "stdout",
     "output_type": "stream",
     "text": [
      "Epoch 47 \t\t Training Loss: 0.011646830975181858 \t\t Validation Loss: 0.2765769948667104\n"
     ]
    },
    {
     "name": "stderr",
     "output_type": "stream",
     "text": [
      " 48%|████▊     | 48/100 [2:25:26<2:30:40, 173.85s/it]"
     ]
    },
    {
     "name": "stdout",
     "output_type": "stream",
     "text": [
      "Epoch 48 \t\t Training Loss: 0.022465516336253735 \t\t Validation Loss: 0.3571307363513197\n"
     ]
    },
    {
     "name": "stderr",
     "output_type": "stream",
     "text": [
      " 49%|████▉     | 49/100 [2:28:19<2:27:20, 173.35s/it]"
     ]
    },
    {
     "name": "stdout",
     "output_type": "stream",
     "text": [
      "Epoch 49 \t\t Training Loss: 0.04568841786638683 \t\t Validation Loss: 0.36203212881036384\n"
     ]
    },
    {
     "name": "stderr",
     "output_type": "stream",
     "text": [
      " 50%|█████     | 50/100 [2:31:12<2:24:30, 173.41s/it]"
     ]
    },
    {
     "name": "stdout",
     "output_type": "stream",
     "text": [
      "Epoch 50 \t\t Training Loss: 0.023609080804222825 \t\t Validation Loss: 0.24820594311645033\n"
     ]
    },
    {
     "name": "stderr",
     "output_type": "stream",
     "text": [
      " 51%|█████     | 51/100 [2:34:04<2:21:09, 172.84s/it]"
     ]
    },
    {
     "name": "stdout",
     "output_type": "stream",
     "text": [
      "Epoch 51 \t\t Training Loss: 0.004269489424208877 \t\t Validation Loss: 0.2467594288858361\n"
     ]
    },
    {
     "name": "stderr",
     "output_type": "stream",
     "text": [
      " 52%|█████▏    | 52/100 [2:36:55<2:17:55, 172.40s/it]"
     ]
    },
    {
     "name": "stdout",
     "output_type": "stream",
     "text": [
      "Epoch 52 \t\t Training Loss: 0.0006891765205984172 \t\t Validation Loss: 0.2333405855616674\n"
     ]
    },
    {
     "name": "stderr",
     "output_type": "stream",
     "text": [
      " 53%|█████▎    | 53/100 [2:39:47<2:14:55, 172.24s/it]"
     ]
    },
    {
     "name": "stdout",
     "output_type": "stream",
     "text": [
      "Epoch 53 \t\t Training Loss: 0.00017508244954170233 \t\t Validation Loss: 0.22870093231383665\n"
     ]
    },
    {
     "name": "stderr",
     "output_type": "stream",
     "text": [
      " 54%|█████▍    | 54/100 [2:42:38<2:11:53, 172.03s/it]"
     ]
    },
    {
     "name": "stdout",
     "output_type": "stream",
     "text": [
      "Epoch 54 \t\t Training Loss: 0.00012570086191967218 \t\t Validation Loss: 0.2252895885076329\n"
     ]
    },
    {
     "name": "stderr",
     "output_type": "stream",
     "text": [
      " 55%|█████▌    | 55/100 [2:45:30<2:08:57, 171.95s/it]"
     ]
    },
    {
     "name": "stdout",
     "output_type": "stream",
     "text": [
      "Epoch 55 \t\t Training Loss: 9.089121462462174e-05 \t\t Validation Loss: 0.22849315530188102\n"
     ]
    },
    {
     "name": "stderr",
     "output_type": "stream",
     "text": [
      " 56%|█████▌    | 56/100 [2:48:22<2:05:58, 171.79s/it]"
     ]
    },
    {
     "name": "stdout",
     "output_type": "stream",
     "text": [
      "Epoch 56 \t\t Training Loss: 6.575076454304544e-05 \t\t Validation Loss: 0.21591825120838942\n"
     ]
    },
    {
     "name": "stderr",
     "output_type": "stream",
     "text": [
      " 57%|█████▋    | 57/100 [2:51:13<2:03:02, 171.68s/it]"
     ]
    },
    {
     "name": "stdout",
     "output_type": "stream",
     "text": [
      "Epoch 57 \t\t Training Loss: 4.8876844818621504e-05 \t\t Validation Loss: 0.22874062850081528\n"
     ]
    },
    {
     "name": "stderr",
     "output_type": "stream",
     "text": [
      " 58%|█████▊    | 58/100 [2:54:04<2:00:01, 171.47s/it]"
     ]
    },
    {
     "name": "stdout",
     "output_type": "stream",
     "text": [
      "Epoch 58 \t\t Training Loss: 0.00012605926295821294 \t\t Validation Loss: 0.2893852063972892\n"
     ]
    },
    {
     "name": "stderr",
     "output_type": "stream",
     "text": [
      " 59%|█████▉    | 59/100 [2:56:55<1:57:03, 171.30s/it]"
     ]
    },
    {
     "name": "stdout",
     "output_type": "stream",
     "text": [
      "Epoch 59 \t\t Training Loss: 7.460568831441018e-05 \t\t Validation Loss: 0.21503796830747196\n"
     ]
    },
    {
     "name": "stderr",
     "output_type": "stream",
     "text": [
      " 60%|██████    | 60/100 [2:59:46<1:54:07, 171.20s/it]"
     ]
    },
    {
     "name": "stdout",
     "output_type": "stream",
     "text": [
      "Epoch 60 \t\t Training Loss: 0.10938223219204382 \t\t Validation Loss: 0.42849449022478553\n"
     ]
    },
    {
     "name": "stderr",
     "output_type": "stream",
     "text": [
      " 61%|██████    | 61/100 [3:02:37<1:51:15, 171.16s/it]"
     ]
    },
    {
     "name": "stdout",
     "output_type": "stream",
     "text": [
      "Epoch 61 \t\t Training Loss: 0.0760526372631986 \t\t Validation Loss: 0.3149528983373289\n"
     ]
    },
    {
     "name": "stderr",
     "output_type": "stream",
     "text": [
      " 62%|██████▏   | 62/100 [3:05:28<1:48:21, 171.08s/it]"
     ]
    },
    {
     "name": "stdout",
     "output_type": "stream",
     "text": [
      "Epoch 62 \t\t Training Loss: 0.010390458295504142 \t\t Validation Loss: 0.1926884639796748\n"
     ]
    },
    {
     "name": "stderr",
     "output_type": "stream",
     "text": [
      " 63%|██████▎   | 63/100 [3:08:18<1:45:25, 170.97s/it]"
     ]
    },
    {
     "name": "stdout",
     "output_type": "stream",
     "text": [
      "Epoch 63 \t\t Training Loss: 0.002344983090498834 \t\t Validation Loss: 0.20341830854605306\n"
     ]
    },
    {
     "name": "stderr",
     "output_type": "stream",
     "text": [
      " 64%|██████▍   | 64/100 [3:11:09<1:42:34, 170.96s/it]"
     ]
    },
    {
     "name": "stdout",
     "output_type": "stream",
     "text": [
      "Epoch 64 \t\t Training Loss: 0.0010690519716882111 \t\t Validation Loss: 0.21801769863871218\n"
     ]
    },
    {
     "name": "stderr",
     "output_type": "stream",
     "text": [
      " 65%|██████▌   | 65/100 [3:14:01<1:39:50, 171.16s/it]"
     ]
    },
    {
     "name": "stdout",
     "output_type": "stream",
     "text": [
      "Epoch 65 \t\t Training Loss: 0.0002888091874944874 \t\t Validation Loss: 0.21843224985860626\n"
     ]
    },
    {
     "name": "stderr",
     "output_type": "stream",
     "text": [
      " 66%|██████▌   | 66/100 [3:16:52<1:36:57, 171.09s/it]"
     ]
    },
    {
     "name": "stdout",
     "output_type": "stream",
     "text": [
      "Epoch 66 \t\t Training Loss: 0.00018302393255133147 \t\t Validation Loss: 0.20108735153161997\n"
     ]
    },
    {
     "name": "stderr",
     "output_type": "stream",
     "text": [
      " 67%|██████▋   | 67/100 [3:19:43<1:34:08, 171.18s/it]"
     ]
    },
    {
     "name": "stdout",
     "output_type": "stream",
     "text": [
      "Epoch 67 \t\t Training Loss: 0.0001405126911889193 \t\t Validation Loss: 0.19530272954092007\n"
     ]
    },
    {
     "name": "stderr",
     "output_type": "stream",
     "text": [
      " 68%|██████▊   | 68/100 [3:22:35<1:31:19, 171.24s/it]"
     ]
    },
    {
     "name": "stdout",
     "output_type": "stream",
     "text": [
      "Epoch 68 \t\t Training Loss: 0.0004942855874053203 \t\t Validation Loss: 0.4142117832864331\n"
     ]
    },
    {
     "name": "stderr",
     "output_type": "stream",
     "text": [
      " 69%|██████▉   | 69/100 [3:25:25<1:28:22, 171.06s/it]"
     ]
    },
    {
     "name": "stdout",
     "output_type": "stream",
     "text": [
      "Epoch 69 \t\t Training Loss: 0.11489173238833407 \t\t Validation Loss: 0.23414945674918686\n"
     ]
    },
    {
     "name": "stderr",
     "output_type": "stream",
     "text": [
      " 70%|███████   | 70/100 [3:28:16<1:25:28, 170.95s/it]"
     ]
    },
    {
     "name": "stdout",
     "output_type": "stream",
     "text": [
      "Epoch 70 \t\t Training Loss: 0.014768977891704579 \t\t Validation Loss: 0.2874393481775953\n"
     ]
    },
    {
     "name": "stderr",
     "output_type": "stream",
     "text": [
      " 71%|███████   | 71/100 [3:31:10<1:23:04, 171.87s/it]"
     ]
    },
    {
     "name": "stdout",
     "output_type": "stream",
     "text": [
      "Epoch 71 \t\t Training Loss: 0.006088297272677374 \t\t Validation Loss: 0.21812628541899554\n"
     ]
    },
    {
     "name": "stderr",
     "output_type": "stream",
     "text": [
      " 72%|███████▏  | 72/100 [3:34:01<1:20:06, 171.67s/it]"
     ]
    },
    {
     "name": "stdout",
     "output_type": "stream",
     "text": [
      "Epoch 72 \t\t Training Loss: 0.0016735948669474696 \t\t Validation Loss: 0.1864786787197162\n"
     ]
    },
    {
     "name": "stderr",
     "output_type": "stream",
     "text": [
      " 73%|███████▎  | 73/100 [3:36:52<1:17:07, 171.38s/it]"
     ]
    },
    {
     "name": "stdout",
     "output_type": "stream",
     "text": [
      "Epoch 73 \t\t Training Loss: 0.0003151385205581004 \t\t Validation Loss: 0.200707865622347\n"
     ]
    },
    {
     "name": "stderr",
     "output_type": "stream",
     "text": [
      " 74%|███████▍  | 74/100 [3:39:43<1:14:09, 171.13s/it]"
     ]
    },
    {
     "name": "stdout",
     "output_type": "stream",
     "text": [
      "Epoch 74 \t\t Training Loss: 0.00034778659838639484 \t\t Validation Loss: 0.20694785732667362\n"
     ]
    },
    {
     "name": "stderr",
     "output_type": "stream",
     "text": [
      " 75%|███████▌  | 75/100 [3:42:33<1:11:13, 170.94s/it]"
     ]
    },
    {
     "name": "stdout",
     "output_type": "stream",
     "text": [
      "Epoch 75 \t\t Training Loss: 0.00019156729118763186 \t\t Validation Loss: 0.18050769913883316\n"
     ]
    },
    {
     "name": "stderr",
     "output_type": "stream",
     "text": [
      " 76%|███████▌  | 76/100 [3:45:23<1:08:18, 170.78s/it]"
     ]
    },
    {
     "name": "stdout",
     "output_type": "stream",
     "text": [
      "Epoch 76 \t\t Training Loss: 9.078407039688842e-05 \t\t Validation Loss: 0.18598124665216842\n"
     ]
    },
    {
     "name": "stderr",
     "output_type": "stream",
     "text": [
      " 77%|███████▋  | 77/100 [3:48:15<1:05:32, 170.98s/it]"
     ]
    },
    {
     "name": "stdout",
     "output_type": "stream",
     "text": [
      "Epoch 77 \t\t Training Loss: 8.648851288051086e-05 \t\t Validation Loss: 0.20220792906868063\n"
     ]
    },
    {
     "name": "stderr",
     "output_type": "stream",
     "text": [
      " 78%|███████▊  | 78/100 [3:51:05<1:02:38, 170.84s/it]"
     ]
    },
    {
     "name": "stdout",
     "output_type": "stream",
     "text": [
      "Epoch 78 \t\t Training Loss: 6.776028427436921e-05 \t\t Validation Loss: 0.18394235077864288\n"
     ]
    },
    {
     "name": "stderr",
     "output_type": "stream",
     "text": [
      " 79%|███████▉  | 79/100 [3:53:58<59:55, 171.22s/it]  "
     ]
    },
    {
     "name": "stdout",
     "output_type": "stream",
     "text": [
      "Epoch 79 \t\t Training Loss: 4.0837139221448317e-05 \t\t Validation Loss: 0.1996935889030536\n"
     ]
    },
    {
     "name": "stderr",
     "output_type": "stream",
     "text": [
      " 80%|████████  | 80/100 [3:56:49<57:05, 171.26s/it]"
     ]
    },
    {
     "name": "stdout",
     "output_type": "stream",
     "text": [
      "Epoch 80 \t\t Training Loss: 3.0347267735419236e-05 \t\t Validation Loss: 0.2026244462481545\n"
     ]
    },
    {
     "name": "stderr",
     "output_type": "stream",
     "text": [
      " 81%|████████  | 81/100 [3:59:41<54:19, 171.58s/it]"
     ]
    },
    {
     "name": "stdout",
     "output_type": "stream",
     "text": [
      "Epoch 81 \t\t Training Loss: 2.4492302174735814e-05 \t\t Validation Loss: 0.21438090053400433\n"
     ]
    },
    {
     "name": "stderr",
     "output_type": "stream",
     "text": [
      " 82%|████████▏ | 82/100 [4:02:32<51:25, 171.44s/it]"
     ]
    },
    {
     "name": "stdout",
     "output_type": "stream",
     "text": [
      "Epoch 82 \t\t Training Loss: 0.0011755221361100113 \t\t Validation Loss: 0.24248538000429568\n"
     ]
    },
    {
     "name": "stderr",
     "output_type": "stream",
     "text": [
      " 83%|████████▎ | 83/100 [4:05:24<48:36, 171.59s/it]"
     ]
    },
    {
     "name": "stdout",
     "output_type": "stream",
     "text": [
      "Epoch 83 \t\t Training Loss: 0.11781136672614852 \t\t Validation Loss: 0.27647603890575656\n"
     ]
    },
    {
     "name": "stderr",
     "output_type": "stream",
     "text": [
      " 84%|████████▍ | 84/100 [4:08:16<45:46, 171.68s/it]"
     ]
    },
    {
     "name": "stdout",
     "output_type": "stream",
     "text": [
      "Epoch 84 \t\t Training Loss: 0.016748950605709006 \t\t Validation Loss: 0.20209654394291854\n"
     ]
    },
    {
     "name": "stderr",
     "output_type": "stream",
     "text": [
      " 85%|████████▌ | 85/100 [4:11:07<42:53, 171.54s/it]"
     ]
    },
    {
     "name": "stdout",
     "output_type": "stream",
     "text": [
      "Epoch 85 \t\t Training Loss: 0.00302831560777432 \t\t Validation Loss: 0.26875499555622995\n"
     ]
    },
    {
     "name": "stderr",
     "output_type": "stream",
     "text": [
      " 86%|████████▌ | 86/100 [4:13:58<39:57, 171.23s/it]"
     ]
    },
    {
     "name": "stdout",
     "output_type": "stream",
     "text": [
      "Epoch 86 \t\t Training Loss: 0.0006664153507072707 \t\t Validation Loss: 0.23791457327024546\n"
     ]
    },
    {
     "name": "stderr",
     "output_type": "stream",
     "text": [
      " 87%|████████▋ | 87/100 [4:16:48<37:03, 171.05s/it]"
     ]
    },
    {
     "name": "stdout",
     "output_type": "stream",
     "text": [
      "Epoch 87 \t\t Training Loss: 0.0005997506594652558 \t\t Validation Loss: 0.23744336457927107\n"
     ]
    },
    {
     "name": "stderr",
     "output_type": "stream",
     "text": [
      " 88%|████████▊ | 88/100 [4:19:40<34:15, 171.27s/it]"
     ]
    },
    {
     "name": "stdout",
     "output_type": "stream",
     "text": [
      "Epoch 88 \t\t Training Loss: 0.0003592340367961659 \t\t Validation Loss: 0.21799913660820322\n"
     ]
    },
    {
     "name": "stderr",
     "output_type": "stream",
     "text": [
      " 89%|████████▉ | 89/100 [4:22:31<31:21, 171.09s/it]"
     ]
    },
    {
     "name": "stdout",
     "output_type": "stream",
     "text": [
      "Epoch 89 \t\t Training Loss: 0.00011820971646403105 \t\t Validation Loss: 0.23687987791962298\n"
     ]
    },
    {
     "name": "stderr",
     "output_type": "stream",
     "text": [
      " 90%|█████████ | 90/100 [4:25:22<28:31, 171.16s/it]"
     ]
    },
    {
     "name": "stdout",
     "output_type": "stream",
     "text": [
      "Epoch 90 \t\t Training Loss: 0.00015541347676431411 \t\t Validation Loss: 0.2382081596355926\n"
     ]
    },
    {
     "name": "stderr",
     "output_type": "stream",
     "text": [
      " 91%|█████████ | 91/100 [4:28:13<25:39, 171.04s/it]"
     ]
    },
    {
     "name": "stdout",
     "output_type": "stream",
     "text": [
      "Epoch 91 \t\t Training Loss: 0.0001059491923928909 \t\t Validation Loss: 0.240799746098213\n"
     ]
    },
    {
     "name": "stderr",
     "output_type": "stream",
     "text": [
      " 92%|█████████▏| 92/100 [4:31:05<22:51, 171.46s/it]"
     ]
    },
    {
     "name": "stdout",
     "output_type": "stream",
     "text": [
      "Epoch 92 \t\t Training Loss: 7.103492970316067e-05 \t\t Validation Loss: 0.2384917087366617\n"
     ]
    },
    {
     "name": "stderr",
     "output_type": "stream",
     "text": [
      " 93%|█████████▎| 93/100 [4:33:56<19:58, 171.27s/it]"
     ]
    },
    {
     "name": "stdout",
     "output_type": "stream",
     "text": [
      "Epoch 93 \t\t Training Loss: 3.8188820570575146e-05 \t\t Validation Loss: 0.23783634271279006\n"
     ]
    },
    {
     "name": "stderr",
     "output_type": "stream",
     "text": [
      " 94%|█████████▍| 94/100 [4:36:47<17:06, 171.09s/it]"
     ]
    },
    {
     "name": "stdout",
     "output_type": "stream",
     "text": [
      "Epoch 94 \t\t Training Loss: 4.48454952133146e-05 \t\t Validation Loss: 0.22799371893190162\n"
     ]
    },
    {
     "name": "stderr",
     "output_type": "stream",
     "text": [
      " 95%|█████████▌| 95/100 [4:39:38<14:15, 171.11s/it]"
     ]
    },
    {
     "name": "stdout",
     "output_type": "stream",
     "text": [
      "Epoch 95 \t\t Training Loss: 2.450696377378439e-05 \t\t Validation Loss: 0.23126151481191978\n"
     ]
    },
    {
     "name": "stderr",
     "output_type": "stream",
     "text": [
      " 96%|█████████▌| 96/100 [4:42:30<11:24, 171.23s/it]"
     ]
    },
    {
     "name": "stdout",
     "output_type": "stream",
     "text": [
      "Epoch 96 \t\t Training Loss: 2.519589076529934e-05 \t\t Validation Loss: 0.23966031850040043\n"
     ]
    },
    {
     "name": "stderr",
     "output_type": "stream",
     "text": [
      " 97%|█████████▋| 97/100 [4:45:22<08:34, 171.48s/it]"
     ]
    },
    {
     "name": "stdout",
     "output_type": "stream",
     "text": [
      "Epoch 97 \t\t Training Loss: 9.604177000058797e-05 \t\t Validation Loss: 0.24499858836871463\n"
     ]
    },
    {
     "name": "stderr",
     "output_type": "stream",
     "text": [
      " 98%|█████████▊| 98/100 [4:48:14<05:43, 171.67s/it]"
     ]
    },
    {
     "name": "stdout",
     "output_type": "stream",
     "text": [
      "Epoch 98 \t\t Training Loss: 0.1379864316396532 \t\t Validation Loss: 0.29489387389931154\n"
     ]
    },
    {
     "name": "stderr",
     "output_type": "stream",
     "text": [
      " 99%|█████████▉| 99/100 [4:51:05<02:51, 171.59s/it]"
     ]
    },
    {
     "name": "stdout",
     "output_type": "stream",
     "text": [
      "Epoch 99 \t\t Training Loss: 0.012703271216126338 \t\t Validation Loss: 0.24834497383599688\n"
     ]
    },
    {
     "name": "stderr",
     "output_type": "stream",
     "text": [
      "100%|██████████| 100/100 [4:53:56<00:00, 176.37s/it]"
     ]
    },
    {
     "name": "stdout",
     "output_type": "stream",
     "text": [
      "Epoch 100 \t\t Training Loss: 0.0063282298862635715 \t\t Validation Loss: 0.22106218568280636\n"
     ]
    },
    {
     "name": "stderr",
     "output_type": "stream",
     "text": [
      "\n"
     ]
    }
   ],
   "source": [
    "train_model.train_model(train_data, val_data, resnet_101, 'models/models_weights/resnet101_all_data.pth', epochs=100)"
   ]
  }
 ],
 "metadata": {
  "kernelspec": {
   "display_name": "Babylon",
   "language": "python",
   "name": "python3"
  },
  "language_info": {
   "codemirror_mode": {
    "name": "ipython",
    "version": 3
   },
   "file_extension": ".py",
   "mimetype": "text/x-python",
   "name": "python",
   "nbconvert_exporter": "python",
   "pygments_lexer": "ipython3",
   "version": "3.11.4"
  },
  "orig_nbformat": 4
 },
 "nbformat": 4,
 "nbformat_minor": 2
}
