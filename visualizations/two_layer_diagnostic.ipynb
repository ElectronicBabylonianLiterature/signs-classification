{
 "cells": [
  {
   "cell_type": "code",
   "execution_count": 1,
   "metadata": {},
   "outputs": [],
   "source": [
    "from torchvision.models import  ResNet101_Weights\n",
    "from torchvision.datasets import ImageFolder\n",
    "import torch\n",
    "from torchmetrics import Accuracy\n",
    "from sklearn.metrics import confusion_matrix\n",
    "import sys\n",
    "sys.path.append('../')\n",
    "from sklearn.model_selection import train_test_split\n",
    "from torch.utils.data import Subset\n",
    "from models import two_conv_network\n",
    "import matplotlib.pyplot as plt\n",
    "import seaborn as sn\n",
    "import pandas as pd\n",
    "import numpy as np\n",
    "import torch.nn as nn"
   ]
  },
  {
   "cell_type": "code",
   "execution_count": 2,
   "metadata": {},
   "outputs": [],
   "source": [
    "data = ImageFolder('../data_retrieval/data', ResNet101_Weights.IMAGENET1K_V2.transforms())\n",
    "targets = data.targets\n",
    "train_indices, test_val_indices = train_test_split(np.arange(len(targets)), stratify=targets, train_size=0.65, random_state=21)\n",
    "train_data = Subset(data, indices=train_indices)\n",
    "val_test_data = Subset(data, indices=test_val_indices)\n",
    "targets = np.array(targets)\n",
    "test_val_targets = targets[test_val_indices]\n",
    "test_indices, val_indices = train_test_split(test_val_indices, stratify=test_val_targets, train_size=0.57, random_state=21)\n",
    "val_data, test_data = Subset(data, indices=val_indices), Subset(data, indices=test_indices)"
   ]
  },
  {
   "cell_type": "code",
   "execution_count": 3,
   "metadata": {},
   "outputs": [],
   "source": [
    "model = two_conv_network.TwoLayerConvNet(len(test_data.dataset.classes))"
   ]
  },
  {
   "cell_type": "code",
   "execution_count": 5,
   "metadata": {},
   "outputs": [
    {
     "data": {
      "text/plain": [
       "<All keys matched successfully>"
      ]
     },
     "execution_count": 5,
     "metadata": {},
     "output_type": "execute_result"
    }
   ],
   "source": [
    "model.load_state_dict(torch.load('../models/models_weights/two_conv_network_diagnostic.pth'))"
   ]
  },
  {
   "cell_type": "code",
   "execution_count": 6,
   "metadata": {},
   "outputs": [
    {
     "data": {
      "text/plain": [
       "TwoLayerConvNet(\n",
       "  (conv1): Conv2d(3, 16, kernel_size=(3, 3), stride=(1, 1), padding=(1, 1))\n",
       "  (relu1): ReLU()\n",
       "  (pool1): MaxPool2d(kernel_size=2, stride=2, padding=0, dilation=1, ceil_mode=False)\n",
       "  (conv2): Conv2d(16, 32, kernel_size=(3, 3), stride=(1, 1), padding=(1, 1))\n",
       "  (relu2): ReLU()\n",
       "  (pool2): MaxPool2d(kernel_size=2, stride=2, padding=0, dilation=1, ceil_mode=False)\n",
       "  (fc1): Linear(in_features=100352, out_features=16, bias=True)\n",
       "  (relu3): ReLU()\n",
       "  (fc2): Linear(in_features=16, out_features=22, bias=True)\n",
       ")"
      ]
     },
     "execution_count": 6,
     "metadata": {},
     "output_type": "execute_result"
    }
   ],
   "source": [
    "model.eval()"
   ]
  },
  {
   "cell_type": "code",
   "execution_count": 7,
   "metadata": {},
   "outputs": [],
   "source": [
    "test_loader = torch.utils.data.DataLoader(test_data,\n",
    "                                             batch_size=16, shuffle=True,\n",
    "                                             num_workers=4)"
   ]
  },
  {
   "cell_type": "code",
   "execution_count": 8,
   "metadata": {},
   "outputs": [
    {
     "name": "stdout",
     "output_type": "stream",
     "text": [
      "Size of test dataset: 1656\n"
     ]
    }
   ],
   "source": [
    "print(\"Size of test dataset:\", len(test_data))"
   ]
  },
  {
   "cell_type": "code",
   "execution_count": 9,
   "metadata": {},
   "outputs": [],
   "source": [
    "idx_to_class = {v: k for k, v in test_data.dataset.class_to_idx.items()}"
   ]
  },
  {
   "cell_type": "code",
   "execution_count": 10,
   "metadata": {},
   "outputs": [
    {
     "data": {
      "text/plain": [
       "{0: 'E_Neo-Assyrian',\n",
       " 1: 'E_Neo-Babylonian',\n",
       " 2: 'GAR_Neo-Assyrian',\n",
       " 3: 'GAR_Neo-Babylonian',\n",
       " 4: 'KA_Neo-Assyrian',\n",
       " 5: 'KA_Neo-Babylonian',\n",
       " 6: 'KI_Neo-Assyrian',\n",
       " 7: 'KI_Neo-Babylonian',\n",
       " 8: 'MEŠ_Neo-Assyrian',\n",
       " 9: 'MEŠ_Neo-Babylonian',\n",
       " 10: 'NI_Neo-Assyrian',\n",
       " 11: 'NI_Neo-Babylonian',\n",
       " 12: 'RU_Neo-Assyrian',\n",
       " 13: 'RU_Neo-Babylonian',\n",
       " 14: 'TA_Neo-Assyrian',\n",
       " 15: 'TA_Neo-Babylonian',\n",
       " 16: 'TI_Neo-Assyrian',\n",
       " 17: 'TI_Neo-Babylonian',\n",
       " 18: 'U₂_Neo-Assyrian',\n",
       " 19: 'U₂_Neo-Babylonian',\n",
       " 20: 'ŠU_Neo-Assyrian',\n",
       " 21: 'ŠU_Neo-Babylonian'}"
      ]
     },
     "execution_count": 10,
     "metadata": {},
     "output_type": "execute_result"
    }
   ],
   "source": [
    "idx_to_class"
   ]
  },
  {
   "cell_type": "code",
   "execution_count": 11,
   "metadata": {},
   "outputs": [],
   "source": [
    "correct_pred = {classname: 0 for classname in idx_to_class}\n",
    "total_pred = {classname: 0 for classname in idx_to_class}\n",
    "with torch.no_grad():\n",
    "    for data in test_loader:\n",
    "        images, labels = data\n",
    "        outputs = model(images)\n",
    "        _, predictions = torch.max(outputs, 1)\n",
    "        for label, prediction in zip(labels, predictions):\n",
    "            if idx_to_class[int(label)] == idx_to_class[(int(prediction))]:\n",
    "                correct_pred[int(label)] += 1\n",
    "            total_pred[int(label)] += 1"
   ]
  },
  {
   "cell_type": "code",
   "execution_count": 12,
   "metadata": {},
   "outputs": [
    {
     "name": "stdout",
     "output_type": "stream",
     "text": [
      "Accuracy for class: E_Neo-Assyrian is 0.0 %\n",
      "Accuracy for class: E_Neo-Babylonian is 0.0 %\n",
      "Accuracy for class: GAR_Neo-Assyrian is 0.0 %\n",
      "Accuracy for class: GAR_Neo-Babylonian is 81.8 %\n",
      "Accuracy for class: KA_Neo-Assyrian is 0.0 %\n",
      "Accuracy for class: KA_Neo-Babylonian is 0.0 %\n",
      "Accuracy for class: KI_Neo-Assyrian is 0.0 %\n",
      "Accuracy for class: KI_Neo-Babylonian is 17.4 %\n",
      "Accuracy for class: MEŠ_Neo-Assyrian is 0.0 %\n",
      "Accuracy for class: MEŠ_Neo-Babylonian is 0.0 %\n",
      "Accuracy for class: NI_Neo-Assyrian is 0.0 %\n",
      "Accuracy for class: NI_Neo-Babylonian is 0.0 %\n",
      "Accuracy for class: RU_Neo-Assyrian is 0.0 %\n",
      "Accuracy for class: RU_Neo-Babylonian is 0.0 %\n",
      "Accuracy for class: TA_Neo-Assyrian is 0.0 %\n",
      "Accuracy for class: TA_Neo-Babylonian is 0.0 %\n",
      "Accuracy for class: TI_Neo-Assyrian is 0.0 %\n",
      "Accuracy for class: TI_Neo-Babylonian is 0.0 %\n",
      "Accuracy for class: U₂_Neo-Assyrian is 0.0 %\n",
      "Accuracy for class: U₂_Neo-Babylonian is 86.5 %\n",
      "Accuracy for class: ŠU_Neo-Assyrian is 0.0 %\n",
      "Accuracy for class: ŠU_Neo-Babylonian is 0.0 %\n"
     ]
    }
   ],
   "source": [
    "for classname, correct_count in correct_pred.items():\n",
    "    accuracy = 100 * float(correct_count) / total_pred[classname]\n",
    "    print(f'Accuracy for class: {idx_to_class[classname]:5s} is {accuracy:.1f} %')"
   ]
  },
  {
   "cell_type": "code",
   "execution_count": 14,
   "metadata": {},
   "outputs": [
    {
     "name": "stdout",
     "output_type": "stream",
     "text": [
      "Overall accuracy:  0.20652173913043478\n"
     ]
    }
   ],
   "source": [
    "print(\"Overall accuracy: \",sum(correct_pred.values()) / sum(total_pred.values()))"
   ]
  },
  {
   "cell_type": "code",
   "execution_count": null,
   "metadata": {},
   "outputs": [],
   "source": []
  }
 ],
 "metadata": {
  "kernelspec": {
   "display_name": "Babylon",
   "language": "python",
   "name": "python3"
  },
  "language_info": {
   "codemirror_mode": {
    "name": "ipython",
    "version": 3
   },
   "file_extension": ".py",
   "mimetype": "text/x-python",
   "name": "python",
   "nbconvert_exporter": "python",
   "pygments_lexer": "ipython3",
   "version": "3.11.4"
  },
  "orig_nbformat": 4
 },
 "nbformat": 4,
 "nbformat_minor": 2
}
