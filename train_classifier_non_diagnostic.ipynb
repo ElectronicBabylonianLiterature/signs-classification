{
 "cells": [
  {
   "cell_type": "code",
   "execution_count": 1,
   "metadata": {},
   "outputs": [],
   "source": [
    "from models import model, train_model\n",
    "from torchvision.models import resnet101, ResNet101_Weights\n",
    "from torchvision.datasets import ImageFolder\n",
    "from sklearn.model_selection import train_test_split\n",
    "from torch.utils.data import Subset, ConcatDataset\n",
    "import numpy as np\n",
    "import torch\n",
    "np.random.seed(0)"
   ]
  },
  {
   "cell_type": "code",
   "execution_count": 2,
   "metadata": {},
   "outputs": [
    {
     "name": "stderr",
     "output_type": "stream",
     "text": [
      "e:\\Anaconda\\envs\\Babylon\\Lib\\site-packages\\torchvision\\models\\_utils.py:135: UserWarning: Using 'weights' as positional parameter(s) is deprecated since 0.13 and may be removed in the future. Please use keyword parameter(s) instead.\n",
      "  warnings.warn(\n"
     ]
    }
   ],
   "source": [
    "resnet_101 = model.Model(resnet101(ResNet101_Weights.IMAGENET1K_V2).to('cuda'))\n"
   ]
  },
  {
   "cell_type": "code",
   "execution_count": 3,
   "metadata": {},
   "outputs": [],
   "source": [
    "data = ImageFolder('data_retrieval/data_other', ResNet101_Weights.IMAGENET1K_V2.transforms())"
   ]
  },
  {
   "cell_type": "code",
   "execution_count": 4,
   "metadata": {},
   "outputs": [],
   "source": [
    "k_fold_train = []\n",
    "k_fold_val = []\n",
    "k_fold_test = []\n",
    "for i in range(5):\n",
    "    targets = data.targets\n",
    "    train_indices, test_val_indices = train_test_split(np.arange(len(targets)), stratify=targets, train_size=0.65)\n",
    "    train_data = Subset(data, indices=train_indices)\n",
    "    targets = np.array(targets)\n",
    "    test_val_targets = targets[test_val_indices]\n",
    "    test_indices, val_indices = train_test_split(np.arange(len(test_val_targets)), stratify=test_val_targets, train_size=0.57)\n",
    "    val_data, test_data = Subset(data, indices=val_indices), Subset(data, indices=test_indices)\n",
    "    k_fold_train.append(train_data)\n",
    "    k_fold_val.append(val_data)\n",
    "    k_fold_test.append(test_data)"
   ]
  },
  {
   "cell_type": "code",
   "execution_count": 5,
   "metadata": {},
   "outputs": [
    {
     "name": "stdout",
     "output_type": "stream",
     "text": [
      "Length of train set: 7278\n",
      "Length of val set: 1686\n",
      "Length of test set: 2234\n"
     ]
    }
   ],
   "source": [
    "print(\"Length of train set:\", len(train_data))\n",
    "print(\"Length of val set:\", len(val_data))\n",
    "print(\"Length of test set:\", len(test_data))"
   ]
  },
  {
   "cell_type": "code",
   "execution_count": 6,
   "metadata": {},
   "outputs": [
    {
     "name": "stderr",
     "output_type": "stream",
     "text": [
      "e:\\Anaconda\\envs\\Babylon\\Lib\\site-packages\\torchvision\\models\\_utils.py:135: UserWarning: Using 'weights' as positional parameter(s) is deprecated since 0.13 and may be removed in the future. Please use keyword parameter(s) instead.\n",
      "  warnings.warn(\n"
     ]
    },
    {
     "name": "stdout",
     "output_type": "stream",
     "text": [
      "0-k Fold\n"
     ]
    },
    {
     "name": "stderr",
     "output_type": "stream",
     "text": [
      "  0%|          | 0/100 [00:00<?, ?it/s]"
     ]
    },
    {
     "name": "stdout",
     "output_type": "stream",
     "text": [
      "Epoch 1 \t\t Training Loss: 1.6888482563443237 \t\t Validation Loss: 1.3019070327281952\n",
      "Validation Loss Decreased(inf--->138.002145) \t Saving The Model\n"
     ]
    },
    {
     "name": "stderr",
     "output_type": "stream",
     "text": [
      "  1%|          | 1/100 [02:55<4:49:35, 175.51s/it]"
     ]
    },
    {
     "name": "stdout",
     "output_type": "stream",
     "text": [
      "Epoch 2 \t\t Training Loss: 0.8083387621156461 \t\t Validation Loss: 0.6347651851345908\n",
      "Validation Loss Decreased(138.002145--->67.285110) \t Saving The Model\n"
     ]
    },
    {
     "name": "stderr",
     "output_type": "stream",
     "text": [
      "  3%|▎         | 3/100 [10:27<5:46:47, 214.51s/it]"
     ]
    },
    {
     "name": "stdout",
     "output_type": "stream",
     "text": [
      "Epoch 3 \t\t Training Loss: 0.5583867980719923 \t\t Validation Loss: 0.8767273319217394\n"
     ]
    },
    {
     "name": "stderr",
     "output_type": "stream",
     "text": [
      "  4%|▍         | 4/100 [14:12<5:49:31, 218.45s/it]"
     ]
    },
    {
     "name": "stdout",
     "output_type": "stream",
     "text": [
      "Epoch 4 \t\t Training Loss: 0.44913396399754746 \t\t Validation Loss: 0.7054118352397433\n"
     ]
    },
    {
     "name": "stderr",
     "output_type": "stream",
     "text": [
      "  5%|▌         | 5/100 [17:51<5:46:31, 218.86s/it]"
     ]
    },
    {
     "name": "stdout",
     "output_type": "stream",
     "text": [
      "Epoch 5 \t\t Training Loss: 0.3621494786998073 \t\t Validation Loss: 0.6429159954049677\n",
      "Epoch 6 \t\t Training Loss: 0.28910092488749994 \t\t Validation Loss: 0.6061237302591216\n",
      "Validation Loss Decreased(67.285110--->64.249115) \t Saving The Model\n"
     ]
    },
    {
     "name": "stderr",
     "output_type": "stream",
     "text": [
      "  6%|▌         | 6/100 [21:29<5:42:22, 218.54s/it]"
     ]
    },
    {
     "name": "stdout",
     "output_type": "stream",
     "text": [
      "Epoch 7 \t\t Training Loss: 0.23747916839975905 \t\t Validation Loss: 0.5359609104552359\n",
      "Validation Loss Decreased(64.249115--->56.811857) \t Saving The Model\n"
     ]
    },
    {
     "name": "stderr",
     "output_type": "stream",
     "text": [
      "  7%|▋         | 7/100 [25:07<5:38:25, 218.33s/it]"
     ]
    },
    {
     "name": "stdout",
     "output_type": "stream",
     "text": [
      "Epoch 8 \t\t Training Loss: 0.19080219421801822 \t\t Validation Loss: 0.4326774742243425\n",
      "Validation Loss Decreased(56.811857--->45.863812) \t Saving The Model\n"
     ]
    },
    {
     "name": "stderr",
     "output_type": "stream",
     "text": [
      "  9%|▉         | 9/100 [32:23<5:30:49, 218.13s/it]"
     ]
    },
    {
     "name": "stdout",
     "output_type": "stream",
     "text": [
      "Epoch 9 \t\t Training Loss: 0.16441148747229478 \t\t Validation Loss: 0.5824910722813517\n"
     ]
    },
    {
     "name": "stderr",
     "output_type": "stream",
     "text": [
      " 10%|█         | 10/100 [36:01<5:27:07, 218.08s/it]"
     ]
    },
    {
     "name": "stdout",
     "output_type": "stream",
     "text": [
      "Epoch 10 \t\t Training Loss: 0.13911209799359542 \t\t Validation Loss: 0.5900150410268666\n"
     ]
    },
    {
     "name": "stderr",
     "output_type": "stream",
     "text": [
      " 11%|█         | 11/100 [39:39<5:23:26, 218.05s/it]"
     ]
    },
    {
     "name": "stdout",
     "output_type": "stream",
     "text": [
      "Epoch 11 \t\t Training Loss: 0.13487437814115905 \t\t Validation Loss: 0.48283992110277124\n",
      "Epoch 12 \t\t Training Loss: 0.12390477229447032 \t\t Validation Loss: 0.41621336702011386\n",
      "Validation Loss Decreased(45.863812--->44.118617) \t Saving The Model\n"
     ]
    },
    {
     "name": "stderr",
     "output_type": "stream",
     "text": [
      " 13%|█▎        | 13/100 [46:56<5:16:33, 218.32s/it]"
     ]
    },
    {
     "name": "stdout",
     "output_type": "stream",
     "text": [
      "Epoch 13 \t\t Training Loss: 0.10394823678390501 \t\t Validation Loss: 0.5188899840456698\n"
     ]
    },
    {
     "name": "stderr",
     "output_type": "stream",
     "text": [
      " 14%|█▍        | 14/100 [50:34<5:12:42, 218.16s/it]"
     ]
    },
    {
     "name": "stdout",
     "output_type": "stream",
     "text": [
      "Epoch 14 \t\t Training Loss: 0.11631204939426874 \t\t Validation Loss: 0.4892642808955093\n",
      "Epoch 15 \t\t Training Loss: 0.08167950849555392 \t\t Validation Loss: 0.3691985691273761\n",
      "Validation Loss Decreased(44.118617--->39.135048) \t Saving The Model\n"
     ]
    },
    {
     "name": "stderr",
     "output_type": "stream",
     "text": [
      " 16%|█▌        | 16/100 [57:50<5:05:27, 218.19s/it]"
     ]
    },
    {
     "name": "stdout",
     "output_type": "stream",
     "text": [
      "Epoch 16 \t\t Training Loss: 0.056524274974023916 \t\t Validation Loss: 0.49510239274899986\n"
     ]
    },
    {
     "name": "stderr",
     "output_type": "stream",
     "text": [
      " 17%|█▋        | 17/100 [1:01:28<5:01:48, 218.18s/it]"
     ]
    },
    {
     "name": "stdout",
     "output_type": "stream",
     "text": [
      "Epoch 17 \t\t Training Loss: 0.09912793197340311 \t\t Validation Loss: 0.4980324872435545\n"
     ]
    },
    {
     "name": "stderr",
     "output_type": "stream",
     "text": [
      " 18%|█▊        | 18/100 [1:05:06<4:58:05, 218.12s/it]"
     ]
    },
    {
     "name": "stdout",
     "output_type": "stream",
     "text": [
      "Epoch 18 \t\t Training Loss: 0.07687496424404454 \t\t Validation Loss: 0.46413190805195076\n"
     ]
    },
    {
     "name": "stderr",
     "output_type": "stream",
     "text": [
      " 19%|█▉        | 19/100 [1:08:45<4:54:28, 218.13s/it]"
     ]
    },
    {
     "name": "stdout",
     "output_type": "stream",
     "text": [
      "Epoch 19 \t\t Training Loss: 0.06429910085075739 \t\t Validation Loss: 0.37568609706424877\n",
      "Epoch 20 \t\t Training Loss: 0.0642139617099419 \t\t Validation Loss: 0.352827834290505\n",
      "Validation Loss Decreased(39.135048--->37.399750) \t Saving The Model\n"
     ]
    },
    {
     "name": "stderr",
     "output_type": "stream",
     "text": [
      " 21%|██        | 21/100 [1:16:01<4:47:08, 218.08s/it]"
     ]
    },
    {
     "name": "stdout",
     "output_type": "stream",
     "text": [
      "Epoch 21 \t\t Training Loss: 0.05023500053672591 \t\t Validation Loss: 0.4391389974257865\n"
     ]
    },
    {
     "name": "stderr",
     "output_type": "stream",
     "text": [
      " 22%|██▏       | 22/100 [1:19:39<4:43:33, 218.12s/it]"
     ]
    },
    {
     "name": "stdout",
     "output_type": "stream",
     "text": [
      "Epoch 22 \t\t Training Loss: 0.05516289874219213 \t\t Validation Loss: 0.4302530327442823\n",
      "Epoch 23 \t\t Training Loss: 0.05022649250690797 \t\t Validation Loss: 0.34393831722785384\n",
      "Validation Loss Decreased(37.399750--->36.457462) \t Saving The Model\n"
     ]
    },
    {
     "name": "stderr",
     "output_type": "stream",
     "text": [
      " 24%|██▍       | 24/100 [1:26:55<4:36:05, 217.97s/it]"
     ]
    },
    {
     "name": "stdout",
     "output_type": "stream",
     "text": [
      "Epoch 24 \t\t Training Loss: 0.039132743423956874 \t\t Validation Loss: 0.40374198263809785\n"
     ]
    },
    {
     "name": "stderr",
     "output_type": "stream",
     "text": [
      " 25%|██▌       | 25/100 [1:30:33<4:32:27, 217.97s/it]"
     ]
    },
    {
     "name": "stdout",
     "output_type": "stream",
     "text": [
      "Epoch 25 \t\t Training Loss: 0.058216431974126334 \t\t Validation Loss: 0.44307109974280773\n",
      "Epoch 26 \t\t Training Loss: 0.05377213664257427 \t\t Validation Loss: 0.3242568278263481\n",
      "Validation Loss Decreased(36.457462--->34.371224) \t Saving The Model\n"
     ]
    },
    {
     "name": "stderr",
     "output_type": "stream",
     "text": [
      " 27%|██▋       | 27/100 [1:37:49<4:25:14, 218.01s/it]"
     ]
    },
    {
     "name": "stdout",
     "output_type": "stream",
     "text": [
      "Epoch 27 \t\t Training Loss: 0.0466729397439829 \t\t Validation Loss: 0.37854911257591944\n",
      "Epoch 28 \t\t Training Loss: 0.029180311942756096 \t\t Validation Loss: 0.29008236062550424\n",
      "Validation Loss Decreased(34.371224--->30.748730) \t Saving The Model\n"
     ]
    },
    {
     "name": "stderr",
     "output_type": "stream",
     "text": [
      " 29%|██▉       | 29/100 [1:45:04<4:17:52, 217.92s/it]"
     ]
    },
    {
     "name": "stdout",
     "output_type": "stream",
     "text": [
      "Epoch 29 \t\t Training Loss: 0.022628818457471406 \t\t Validation Loss: 0.43528359980357567\n"
     ]
    },
    {
     "name": "stderr",
     "output_type": "stream",
     "text": [
      " 30%|███       | 30/100 [1:48:50<4:16:57, 220.25s/it]"
     ]
    },
    {
     "name": "stdout",
     "output_type": "stream",
     "text": [
      "Epoch 30 \t\t Training Loss: 0.047723689477105244 \t\t Validation Loss: 0.5798123428852842\n"
     ]
    },
    {
     "name": "stderr",
     "output_type": "stream",
     "text": [
      " 31%|███       | 31/100 [1:52:31<4:13:27, 220.40s/it]"
     ]
    },
    {
     "name": "stdout",
     "output_type": "stream",
     "text": [
      "Epoch 31 \t\t Training Loss: 0.06991169799893523 \t\t Validation Loss: 0.3495643886535446\n",
      "Epoch 32 \t\t Training Loss: 0.02896905533529167 \t\t Validation Loss: 0.2878601299615287\n",
      "Validation Loss Decreased(30.748730--->30.513174) \t Saving The Model\n"
     ]
    },
    {
     "name": "stderr",
     "output_type": "stream",
     "text": [
      " 33%|███▎      | 33/100 [1:59:48<4:04:56, 219.35s/it]"
     ]
    },
    {
     "name": "stdout",
     "output_type": "stream",
     "text": [
      "Epoch 33 \t\t Training Loss: 0.026476643239120776 \t\t Validation Loss: 0.40489939327328084\n"
     ]
    },
    {
     "name": "stderr",
     "output_type": "stream",
     "text": [
      " 34%|███▍      | 34/100 [2:03:26<4:00:58, 219.06s/it]"
     ]
    },
    {
     "name": "stdout",
     "output_type": "stream",
     "text": [
      "Epoch 34 \t\t Training Loss: 0.02574564625106427 \t\t Validation Loss: 0.3244161051335604\n"
     ]
    },
    {
     "name": "stderr",
     "output_type": "stream",
     "text": [
      " 35%|███▌      | 35/100 [2:07:04<3:57:01, 218.79s/it]"
     ]
    },
    {
     "name": "stdout",
     "output_type": "stream",
     "text": [
      "Epoch 35 \t\t Training Loss: 0.028120300270905486 \t\t Validation Loss: 0.4421234125346121\n"
     ]
    },
    {
     "name": "stderr",
     "output_type": "stream",
     "text": [
      " 36%|███▌      | 36/100 [2:10:47<3:54:44, 220.07s/it]"
     ]
    },
    {
     "name": "stdout",
     "output_type": "stream",
     "text": [
      "Epoch 36 \t\t Training Loss: 0.02552973369439804 \t\t Validation Loss: 0.4232288806365346\n",
      "Epoch 37 \t\t Training Loss: 0.049393587609697684 \t\t Validation Loss: 0.2646396164848241\n",
      "Validation Loss Decreased(30.513174--->28.051799) \t Saving The Model\n"
     ]
    },
    {
     "name": "stderr",
     "output_type": "stream",
     "text": [
      " 38%|███▊      | 38/100 [2:20:46<4:29:12, 260.53s/it]"
     ]
    },
    {
     "name": "stdout",
     "output_type": "stream",
     "text": [
      "Epoch 38 \t\t Training Loss: 0.0192541188202665 \t\t Validation Loss: 0.2757607562761789\n"
     ]
    },
    {
     "name": "stderr",
     "output_type": "stream",
     "text": [
      " 39%|███▉      | 39/100 [2:25:45<4:36:37, 272.09s/it]"
     ]
    },
    {
     "name": "stdout",
     "output_type": "stream",
     "text": [
      "Epoch 39 \t\t Training Loss: 0.014675154861983933 \t\t Validation Loss: 0.2878212849192216\n"
     ]
    },
    {
     "name": "stderr",
     "output_type": "stream",
     "text": [
      " 40%|████      | 40/100 [2:30:44<4:40:13, 280.23s/it]"
     ]
    },
    {
     "name": "stdout",
     "output_type": "stream",
     "text": [
      "Epoch 40 \t\t Training Loss: 0.03638155406535568 \t\t Validation Loss: 0.34935476372945384\n"
     ]
    },
    {
     "name": "stderr",
     "output_type": "stream",
     "text": [
      " 41%|████      | 41/100 [2:35:43<4:41:01, 285.79s/it]"
     ]
    },
    {
     "name": "stdout",
     "output_type": "stream",
     "text": [
      "Epoch 41 \t\t Training Loss: 0.03426695638189123 \t\t Validation Loss: 0.3832685232551259\n"
     ]
    },
    {
     "name": "stderr",
     "output_type": "stream",
     "text": [
      " 41%|████      | 41/100 [2:40:43<3:51:16, 235.20s/it]"
     ]
    },
    {
     "name": "stdout",
     "output_type": "stream",
     "text": [
      "Epoch 42 \t\t Training Loss: 0.010341955034511937 \t\t Validation Loss: 0.30643434726132324\n",
      "Training stopped\n"
     ]
    },
    {
     "name": "stderr",
     "output_type": "stream",
     "text": [
      "\n"
     ]
    },
    {
     "name": "stdout",
     "output_type": "stream",
     "text": [
      "1-k Fold\n"
     ]
    },
    {
     "name": "stderr",
     "output_type": "stream",
     "text": [
      "  0%|          | 0/100 [00:00<?, ?it/s]"
     ]
    },
    {
     "name": "stdout",
     "output_type": "stream",
     "text": [
      "Epoch 1 \t\t Training Loss: 1.7363726954538743 \t\t Validation Loss: 1.12508499060037\n",
      "Validation Loss Decreased(inf--->119.259009) \t Saving The Model\n"
     ]
    },
    {
     "name": "stderr",
     "output_type": "stream",
     "text": [
      "  1%|          | 1/100 [04:03<6:41:19, 243.23s/it]"
     ]
    },
    {
     "name": "stdout",
     "output_type": "stream",
     "text": [
      "Epoch 2 \t\t Training Loss: 0.8087058800589907 \t\t Validation Loss: 0.8103153236069769\n",
      "Validation Loss Decreased(119.259009--->85.893424) \t Saving The Model\n"
     ]
    },
    {
     "name": "stderr",
     "output_type": "stream",
     "text": [
      "  2%|▏         | 2/100 [08:04<6:35:26, 242.10s/it]"
     ]
    },
    {
     "name": "stdout",
     "output_type": "stream",
     "text": [
      "Epoch 3 \t\t Training Loss: 0.5869445804383728 \t\t Validation Loss: 0.6258874119452711\n",
      "Validation Loss Decreased(85.893424--->66.344066) \t Saving The Model\n"
     ]
    },
    {
     "name": "stderr",
     "output_type": "stream",
     "text": [
      "  4%|▍         | 4/100 [16:07<6:26:34, 241.61s/it]"
     ]
    },
    {
     "name": "stdout",
     "output_type": "stream",
     "text": [
      "Epoch 4 \t\t Training Loss: 0.46258202548865435 \t\t Validation Loss: 0.6870829575466659\n"
     ]
    },
    {
     "name": "stderr",
     "output_type": "stream",
     "text": [
      "  5%|▌         | 5/100 [20:08<6:22:27, 241.55s/it]"
     ]
    },
    {
     "name": "stdout",
     "output_type": "stream",
     "text": [
      "Epoch 5 \t\t Training Loss: 0.3692385944322898 \t\t Validation Loss: 0.8087199380937612\n"
     ]
    },
    {
     "name": "stderr",
     "output_type": "stream",
     "text": [
      "  6%|▌         | 6/100 [24:11<6:18:48, 241.79s/it]"
     ]
    },
    {
     "name": "stdout",
     "output_type": "stream",
     "text": [
      "Epoch 6 \t\t Training Loss: 0.27997282765764786 \t\t Validation Loss: 0.7703284751975311\n",
      "Epoch 7 \t\t Training Loss: 0.2543950085149525 \t\t Validation Loss: 0.39424850067721223\n",
      "Validation Loss Decreased(66.344066--->41.790341) \t Saving The Model\n"
     ]
    },
    {
     "name": "stderr",
     "output_type": "stream",
     "text": [
      "  7%|▋         | 7/100 [28:13<6:14:54, 241.88s/it]"
     ]
    },
    {
     "name": "stdout",
     "output_type": "stream",
     "text": [
      "Epoch 8 \t\t Training Loss: 0.2059920215835938 \t\t Validation Loss: 0.3274509157317708\n",
      "Validation Loss Decreased(41.790341--->34.709797) \t Saving The Model\n"
     ]
    },
    {
     "name": "stderr",
     "output_type": "stream",
     "text": [
      "  9%|▉         | 9/100 [36:16<6:06:43, 241.80s/it]"
     ]
    },
    {
     "name": "stdout",
     "output_type": "stream",
     "text": [
      "Epoch 9 \t\t Training Loss: 0.17364671923588593 \t\t Validation Loss: 0.33176870442891737\n"
     ]
    },
    {
     "name": "stderr",
     "output_type": "stream",
     "text": [
      " 10%|█         | 10/100 [40:18<6:02:35, 241.73s/it]"
     ]
    },
    {
     "name": "stdout",
     "output_type": "stream",
     "text": [
      "Epoch 10 \t\t Training Loss: 0.1270095464507384 \t\t Validation Loss: 0.3828161166769997\n"
     ]
    },
    {
     "name": "stderr",
     "output_type": "stream",
     "text": [
      " 11%|█         | 11/100 [44:19<5:58:31, 241.70s/it]"
     ]
    },
    {
     "name": "stdout",
     "output_type": "stream",
     "text": [
      "Epoch 11 \t\t Training Loss: 0.13144917381072807 \t\t Validation Loss: 0.43708497760290244\n",
      "Epoch 12 \t\t Training Loss: 0.11989348475606396 \t\t Validation Loss: 0.3032967115857832\n",
      "Validation Loss Decreased(34.709797--->32.149451) \t Saving The Model\n"
     ]
    },
    {
     "name": "stderr",
     "output_type": "stream",
     "text": [
      " 13%|█▎        | 13/100 [52:23<5:50:34, 241.78s/it]"
     ]
    },
    {
     "name": "stdout",
     "output_type": "stream",
     "text": [
      "Epoch 13 \t\t Training Loss: 0.10781185052122225 \t\t Validation Loss: 0.37029876428621133\n"
     ]
    },
    {
     "name": "stderr",
     "output_type": "stream",
     "text": [
      " 14%|█▍        | 14/100 [56:25<5:46:29, 241.74s/it]"
     ]
    },
    {
     "name": "stdout",
     "output_type": "stream",
     "text": [
      "Epoch 14 \t\t Training Loss: 0.06950827023906091 \t\t Validation Loss: 0.3833295266442704\n"
     ]
    },
    {
     "name": "stderr",
     "output_type": "stream",
     "text": [
      " 15%|█▌        | 15/100 [1:00:27<5:42:34, 241.81s/it]"
     ]
    },
    {
     "name": "stdout",
     "output_type": "stream",
     "text": [
      "Epoch 15 \t\t Training Loss: 0.11082753559873838 \t\t Validation Loss: 0.36508621676947994\n"
     ]
    },
    {
     "name": "stderr",
     "output_type": "stream",
     "text": [
      " 16%|█▌        | 16/100 [1:04:29<5:38:33, 241.83s/it]"
     ]
    },
    {
     "name": "stdout",
     "output_type": "stream",
     "text": [
      "Epoch 16 \t\t Training Loss: 0.07900686744027413 \t\t Validation Loss: 0.3952193284925636\n",
      "Epoch 17 \t\t Training Loss: 0.09209155328878826 \t\t Validation Loss: 0.2751074669979302\n",
      "Validation Loss Decreased(32.149451--->29.161392) \t Saving The Model\n"
     ]
    },
    {
     "name": "stderr",
     "output_type": "stream",
     "text": [
      " 17%|█▋        | 17/100 [1:08:31<5:34:44, 241.98s/it]"
     ]
    },
    {
     "name": "stdout",
     "output_type": "stream",
     "text": [
      "Epoch 18 \t\t Training Loss: 0.05928526416223926 \t\t Validation Loss: 0.2574102406912782\n",
      "Validation Loss Decreased(29.161392--->27.285486) \t Saving The Model\n"
     ]
    },
    {
     "name": "stderr",
     "output_type": "stream",
     "text": [
      " 19%|█▉        | 19/100 [1:16:36<5:26:53, 242.14s/it]"
     ]
    },
    {
     "name": "stdout",
     "output_type": "stream",
     "text": [
      "Epoch 19 \t\t Training Loss: 0.08466513910289895 \t\t Validation Loss: 0.39663084859977354\n"
     ]
    },
    {
     "name": "stderr",
     "output_type": "stream",
     "text": [
      " 20%|██        | 20/100 [1:20:38<5:22:54, 242.18s/it]"
     ]
    },
    {
     "name": "stdout",
     "output_type": "stream",
     "text": [
      "Epoch 20 \t\t Training Loss: 0.0517161078989035 \t\t Validation Loss: 0.33031749972559615\n"
     ]
    },
    {
     "name": "stderr",
     "output_type": "stream",
     "text": [
      " 21%|██        | 21/100 [1:24:40<5:18:59, 242.27s/it]"
     ]
    },
    {
     "name": "stdout",
     "output_type": "stream",
     "text": [
      "Epoch 21 \t\t Training Loss: 0.051011071154645614 \t\t Validation Loss: 0.30430165559870526\n"
     ]
    },
    {
     "name": "stderr",
     "output_type": "stream",
     "text": [
      " 22%|██▏       | 22/100 [1:28:43<5:15:07, 242.40s/it]"
     ]
    },
    {
     "name": "stdout",
     "output_type": "stream",
     "text": [
      "Epoch 22 \t\t Training Loss: 0.050748447791972594 \t\t Validation Loss: 0.41928757572072156\n"
     ]
    },
    {
     "name": "stderr",
     "output_type": "stream",
     "text": [
      " 22%|██▏       | 22/100 [1:32:46<5:28:56, 253.03s/it]"
     ]
    },
    {
     "name": "stdout",
     "output_type": "stream",
     "text": [
      "Epoch 23 \t\t Training Loss: 0.05921961358264805 \t\t Validation Loss: 0.489301516815036\n",
      "Training stopped\n"
     ]
    },
    {
     "name": "stderr",
     "output_type": "stream",
     "text": [
      "\n"
     ]
    },
    {
     "name": "stdout",
     "output_type": "stream",
     "text": [
      "2-k Fold\n"
     ]
    },
    {
     "name": "stderr",
     "output_type": "stream",
     "text": [
      "  0%|          | 0/100 [00:00<?, ?it/s]"
     ]
    },
    {
     "name": "stdout",
     "output_type": "stream",
     "text": [
      "Epoch 1 \t\t Training Loss: 1.6881913192979583 \t\t Validation Loss: 1.4492280320176538\n",
      "Validation Loss Decreased(inf--->153.618171) \t Saving The Model\n"
     ]
    },
    {
     "name": "stderr",
     "output_type": "stream",
     "text": [
      "  1%|          | 1/100 [04:03<6:41:56, 243.60s/it]"
     ]
    },
    {
     "name": "stdout",
     "output_type": "stream",
     "text": [
      "Epoch 2 \t\t Training Loss: 0.8151885373579277 \t\t Validation Loss: 1.224560116259557\n",
      "Validation Loss Decreased(153.618171--->129.803372) \t Saving The Model\n"
     ]
    },
    {
     "name": "stderr",
     "output_type": "stream",
     "text": [
      "  2%|▏         | 2/100 [08:07<6:38:15, 243.83s/it]"
     ]
    },
    {
     "name": "stdout",
     "output_type": "stream",
     "text": [
      "Epoch 3 \t\t Training Loss: 0.58034035216321 \t\t Validation Loss: 0.8018299550661501\n",
      "Validation Loss Decreased(129.803372--->84.993975) \t Saving The Model\n"
     ]
    },
    {
     "name": "stderr",
     "output_type": "stream",
     "text": [
      "  3%|▎         | 3/100 [12:11<6:34:23, 243.95s/it]"
     ]
    },
    {
     "name": "stdout",
     "output_type": "stream",
     "text": [
      "Epoch 4 \t\t Training Loss: 0.47287339347895685 \t\t Validation Loss: 0.6560701923972031\n",
      "Validation Loss Decreased(84.993975--->69.543440) \t Saving The Model\n"
     ]
    },
    {
     "name": "stderr",
     "output_type": "stream",
     "text": [
      "  4%|▍         | 4/100 [16:33<6:41:23, 250.87s/it]"
     ]
    },
    {
     "name": "stdout",
     "output_type": "stream",
     "text": [
      "Epoch 5 \t\t Training Loss: 0.37457435911746473 \t\t Validation Loss: 0.5041771912068691\n",
      "Validation Loss Decreased(69.543440--->53.442782) \t Saving The Model\n"
     ]
    },
    {
     "name": "stderr",
     "output_type": "stream",
     "text": [
      "  6%|▌         | 6/100 [26:23<7:13:58, 277.00s/it]"
     ]
    },
    {
     "name": "stdout",
     "output_type": "stream",
     "text": [
      "Epoch 6 \t\t Training Loss: 0.30436896069773606 \t\t Validation Loss: 0.5296657769325769\n",
      "Epoch 7 \t\t Training Loss: 0.24983010207722475 \t\t Validation Loss: 0.3527531100542478\n",
      "Validation Loss Decreased(53.442782--->37.391830) \t Saving The Model\n"
     ]
    },
    {
     "name": "stderr",
     "output_type": "stream",
     "text": [
      "  8%|▊         | 8/100 [36:14<7:19:54, 286.90s/it]"
     ]
    },
    {
     "name": "stdout",
     "output_type": "stream",
     "text": [
      "Epoch 8 \t\t Training Loss: 0.190611649220707 \t\t Validation Loss: 0.4295136397177318\n"
     ]
    },
    {
     "name": "stderr",
     "output_type": "stream",
     "text": [
      "  9%|▉         | 9/100 [41:08<7:18:06, 288.87s/it]"
     ]
    },
    {
     "name": "stdout",
     "output_type": "stream",
     "text": [
      "Epoch 9 \t\t Training Loss: 0.1773258213941417 \t\t Validation Loss: 0.36816183262820934\n"
     ]
    },
    {
     "name": "stderr",
     "output_type": "stream",
     "text": [
      " 10%|█         | 10/100 [46:00<7:14:54, 289.94s/it]"
     ]
    },
    {
     "name": "stdout",
     "output_type": "stream",
     "text": [
      "Epoch 10 \t\t Training Loss: 0.14267500204208133 \t\t Validation Loss: 0.49776779108171193\n"
     ]
    },
    {
     "name": "stderr",
     "output_type": "stream",
     "text": [
      " 11%|█         | 11/100 [50:55<7:12:33, 291.62s/it]"
     ]
    },
    {
     "name": "stdout",
     "output_type": "stream",
     "text": [
      "Epoch 11 \t\t Training Loss: 0.15579052645365124 \t\t Validation Loss: 0.5551013629180643\n"
     ]
    },
    {
     "name": "stderr",
     "output_type": "stream",
     "text": [
      " 11%|█         | 11/100 [55:47<7:31:22, 304.30s/it]"
     ]
    },
    {
     "name": "stdout",
     "output_type": "stream",
     "text": [
      "Epoch 12 \t\t Training Loss: 0.12547260219446169 \t\t Validation Loss: 0.39928343486181406\n",
      "Training stopped\n"
     ]
    },
    {
     "name": "stderr",
     "output_type": "stream",
     "text": [
      "\n"
     ]
    },
    {
     "name": "stdout",
     "output_type": "stream",
     "text": [
      "3-k Fold\n"
     ]
    },
    {
     "name": "stderr",
     "output_type": "stream",
     "text": [
      "  0%|          | 0/100 [00:00<?, ?it/s]"
     ]
    },
    {
     "name": "stdout",
     "output_type": "stream",
     "text": [
      "Epoch 1 \t\t Training Loss: 1.7050443025080713 \t\t Validation Loss: 1.201794148053763\n",
      "Validation Loss Decreased(inf--->127.390180) \t Saving The Model\n"
     ]
    },
    {
     "name": "stderr",
     "output_type": "stream",
     "text": [
      "  1%|          | 1/100 [04:52<8:01:58, 292.10s/it]"
     ]
    },
    {
     "name": "stdout",
     "output_type": "stream",
     "text": [
      "Epoch 2 \t\t Training Loss: 0.8171034985191219 \t\t Validation Loss: 0.8045743317255434\n",
      "Validation Loss Decreased(127.390180--->85.284879) \t Saving The Model\n"
     ]
    },
    {
     "name": "stderr",
     "output_type": "stream",
     "text": [
      "  2%|▏         | 2/100 [09:43<7:56:32, 291.76s/it]"
     ]
    },
    {
     "name": "stdout",
     "output_type": "stream",
     "text": [
      "Epoch 3 \t\t Training Loss: 0.5896290432129587 \t\t Validation Loss: 0.7273752803931821\n",
      "Validation Loss Decreased(85.284879--->77.101780) \t Saving The Model\n"
     ]
    },
    {
     "name": "stderr",
     "output_type": "stream",
     "text": [
      "  3%|▎         | 3/100 [14:35<7:51:38, 291.73s/it]"
     ]
    },
    {
     "name": "stdout",
     "output_type": "stream",
     "text": [
      "Epoch 4 \t\t Training Loss: 0.45848281570188293 \t\t Validation Loss: 0.6128308884096596\n",
      "Validation Loss Decreased(77.101780--->64.960074) \t Saving The Model\n"
     ]
    },
    {
     "name": "stderr",
     "output_type": "stream",
     "text": [
      "  4%|▍         | 4/100 [19:27<7:47:04, 291.93s/it]"
     ]
    },
    {
     "name": "stdout",
     "output_type": "stream",
     "text": [
      "Epoch 5 \t\t Training Loss: 0.3637815939937974 \t\t Validation Loss: 0.4838076923393978\n",
      "Validation Loss Decreased(64.960074--->51.283615) \t Saving The Model\n"
     ]
    },
    {
     "name": "stderr",
     "output_type": "stream",
     "text": [
      "  6%|▌         | 6/100 [29:06<7:34:58, 290.41s/it]"
     ]
    },
    {
     "name": "stdout",
     "output_type": "stream",
     "text": [
      "Epoch 6 \t\t Training Loss: 0.2905487523792864 \t\t Validation Loss: 0.6898147219194556\n"
     ]
    },
    {
     "name": "stderr",
     "output_type": "stream",
     "text": [
      "  7%|▋         | 7/100 [33:50<7:26:42, 288.20s/it]"
     ]
    },
    {
     "name": "stdout",
     "output_type": "stream",
     "text": [
      "Epoch 7 \t\t Training Loss: 0.2684184723666736 \t\t Validation Loss: 0.5954948055013171\n",
      "Epoch 8 \t\t Training Loss: 0.1864802014563683 \t\t Validation Loss: 0.37695020542673346\n",
      "Validation Loss Decreased(51.283615--->39.956722) \t Saving The Model\n"
     ]
    },
    {
     "name": "stderr",
     "output_type": "stream",
     "text": [
      "  9%|▉         | 9/100 [43:22<7:15:38, 287.24s/it]"
     ]
    },
    {
     "name": "stdout",
     "output_type": "stream",
     "text": [
      "Epoch 9 \t\t Training Loss: 0.1555798713639788 \t\t Validation Loss: 0.5693156654542347\n",
      "Epoch 10 \t\t Training Loss: 0.1744300617160951 \t\t Validation Loss: 0.37617685197729545\n",
      "Validation Loss Decreased(39.956722--->39.874746) \t Saving The Model\n"
     ]
    },
    {
     "name": "stderr",
     "output_type": "stream",
     "text": [
      " 10%|█         | 10/100 [48:21<7:16:14, 290.82s/it]"
     ]
    },
    {
     "name": "stdout",
     "output_type": "stream",
     "text": [
      "Epoch 11 \t\t Training Loss: 0.13012684125524873 \t\t Validation Loss: 0.3251903960481286\n",
      "Validation Loss Decreased(39.874746--->34.470182) \t Saving The Model\n"
     ]
    },
    {
     "name": "stderr",
     "output_type": "stream",
     "text": [
      " 11%|█         | 11/100 [53:22<7:16:17, 294.12s/it]"
     ]
    },
    {
     "name": "stdout",
     "output_type": "stream",
     "text": [
      "Epoch 12 \t\t Training Loss: 0.11729099192953371 \t\t Validation Loss: 0.32205525144302055\n",
      "Validation Loss Decreased(34.470182--->34.137857) \t Saving The Model\n"
     ]
    },
    {
     "name": "stderr",
     "output_type": "stream",
     "text": [
      " 13%|█▎        | 13/100 [1:03:21<7:09:35, 296.27s/it]"
     ]
    },
    {
     "name": "stdout",
     "output_type": "stream",
     "text": [
      "Epoch 13 \t\t Training Loss: 0.10750740959800288 \t\t Validation Loss: 0.47354572579563364\n"
     ]
    },
    {
     "name": "stderr",
     "output_type": "stream",
     "text": [
      " 14%|█▍        | 14/100 [1:08:23<7:07:11, 298.04s/it]"
     ]
    },
    {
     "name": "stdout",
     "output_type": "stream",
     "text": [
      "Epoch 14 \t\t Training Loss: 0.07985171276083278 \t\t Validation Loss: 0.4113069720618989\n"
     ]
    },
    {
     "name": "stderr",
     "output_type": "stream",
     "text": [
      " 15%|█▌        | 15/100 [1:13:23<7:03:17, 298.79s/it]"
     ]
    },
    {
     "name": "stdout",
     "output_type": "stream",
     "text": [
      "Epoch 15 \t\t Training Loss: 0.11744758803090388 \t\t Validation Loss: 0.4554592685429116\n"
     ]
    },
    {
     "name": "stderr",
     "output_type": "stream",
     "text": [
      " 16%|█▌        | 16/100 [1:19:14<7:20:01, 314.30s/it]"
     ]
    },
    {
     "name": "stdout",
     "output_type": "stream",
     "text": [
      "Epoch 16 \t\t Training Loss: 0.08326041936998481 \t\t Validation Loss: 0.40906328324861124\n"
     ]
    },
    {
     "name": "stderr",
     "output_type": "stream",
     "text": [
      " 16%|█▌        | 16/100 [1:26:33<7:34:27, 324.61s/it]"
     ]
    },
    {
     "name": "stdout",
     "output_type": "stream",
     "text": [
      "Epoch 17 \t\t Training Loss: 0.052252709958638364 \t\t Validation Loss: 0.46570256223269507\n",
      "Training stopped\n"
     ]
    },
    {
     "name": "stderr",
     "output_type": "stream",
     "text": [
      "\n"
     ]
    },
    {
     "name": "stdout",
     "output_type": "stream",
     "text": [
      "4-k Fold\n"
     ]
    },
    {
     "name": "stderr",
     "output_type": "stream",
     "text": [
      "  0%|          | 0/100 [00:00<?, ?it/s]"
     ]
    },
    {
     "name": "stdout",
     "output_type": "stream",
     "text": [
      "Epoch 1 \t\t Training Loss: 1.7250745358047905 \t\t Validation Loss: 1.382290042233917\n",
      "Validation Loss Decreased(inf--->146.522744) \t Saving The Model\n"
     ]
    },
    {
     "name": "stderr",
     "output_type": "stream",
     "text": [
      "  1%|          | 1/100 [06:21<10:29:49, 381.71s/it]"
     ]
    },
    {
     "name": "stdout",
     "output_type": "stream",
     "text": [
      "Epoch 2 \t\t Training Loss: 0.7971789517900446 \t\t Validation Loss: 0.7544749985044857\n",
      "Validation Loss Decreased(146.522744--->79.974350) \t Saving The Model\n"
     ]
    },
    {
     "name": "stderr",
     "output_type": "stream",
     "text": [
      "  2%|▏         | 2/100 [11:44<9:27:03, 347.18s/it] "
     ]
    },
    {
     "name": "stdout",
     "output_type": "stream",
     "text": [
      "Epoch 3 \t\t Training Loss: 0.559451754292944 \t\t Validation Loss: 0.748817650917566\n",
      "Validation Loss Decreased(79.974350--->79.374671) \t Saving The Model\n"
     ]
    },
    {
     "name": "stderr",
     "output_type": "stream",
     "text": [
      "  3%|▎         | 3/100 [17:05<9:02:02, 335.28s/it]"
     ]
    },
    {
     "name": "stdout",
     "output_type": "stream",
     "text": [
      "Epoch 4 \t\t Training Loss: 0.45397738890906614 \t\t Validation Loss: 0.6646601798118286\n",
      "Validation Loss Decreased(79.374671--->70.453979) \t Saving The Model\n"
     ]
    },
    {
     "name": "stderr",
     "output_type": "stream",
     "text": [
      "  5%|▌         | 5/100 [28:49<9:06:50, 345.38s/it]"
     ]
    },
    {
     "name": "stdout",
     "output_type": "stream",
     "text": [
      "Epoch 5 \t\t Training Loss: 0.3536386843566056 \t\t Validation Loss: 0.6701871723217784\n"
     ]
    },
    {
     "name": "stderr",
     "output_type": "stream",
     "text": [
      "  6%|▌         | 6/100 [34:26<8:56:46, 342.62s/it]"
     ]
    },
    {
     "name": "stdout",
     "output_type": "stream",
     "text": [
      "Epoch 6 \t\t Training Loss: 0.2980665879047752 \t\t Validation Loss: 0.7744161057865845\n"
     ]
    },
    {
     "name": "stderr",
     "output_type": "stream",
     "text": [
      "  7%|▋         | 7/100 [39:46<8:39:40, 335.28s/it]"
     ]
    },
    {
     "name": "stdout",
     "output_type": "stream",
     "text": [
      "Epoch 7 \t\t Training Loss: 0.23095782723093589 \t\t Validation Loss: 0.6985168260223461\n",
      "Epoch 8 \t\t Training Loss: 0.21088164499295609 \t\t Validation Loss: 0.6379540943944791\n",
      "Validation Loss Decreased(70.453979--->67.623134) \t Saving The Model\n"
     ]
    },
    {
     "name": "stderr",
     "output_type": "stream",
     "text": [
      "  8%|▊         | 8/100 [45:04<8:25:22, 329.60s/it]"
     ]
    },
    {
     "name": "stdout",
     "output_type": "stream",
     "text": [
      "Epoch 9 \t\t Training Loss: 0.1657900406344497 \t\t Validation Loss: 0.4948353463748716\n",
      "Validation Loss Decreased(67.623134--->52.452547) \t Saving The Model\n"
     ]
    },
    {
     "name": "stderr",
     "output_type": "stream",
     "text": [
      "  9%|▉         | 9/100 [50:20<8:13:39, 325.49s/it]"
     ]
    },
    {
     "name": "stdout",
     "output_type": "stream",
     "text": [
      "Epoch 10 \t\t Training Loss: 0.15860017018167527 \t\t Validation Loss: 0.3930364054153269\n",
      "Validation Loss Decreased(52.452547--->41.661859) \t Saving The Model\n"
     ]
    },
    {
     "name": "stderr",
     "output_type": "stream",
     "text": [
      " 11%|█         | 11/100 [1:00:54<7:56:01, 320.92s/it]"
     ]
    },
    {
     "name": "stdout",
     "output_type": "stream",
     "text": [
      "Epoch 11 \t\t Training Loss: 0.10548109382846403 \t\t Validation Loss: 0.6465248523526034\n"
     ]
    },
    {
     "name": "stderr",
     "output_type": "stream",
     "text": [
      " 12%|█▏        | 12/100 [1:06:10<7:48:29, 319.42s/it]"
     ]
    },
    {
     "name": "stdout",
     "output_type": "stream",
     "text": [
      "Epoch 12 \t\t Training Loss: 0.1287185880877487 \t\t Validation Loss: 0.4268463944910832\n",
      "Epoch 13 \t\t Training Loss: 0.10996864447267829 \t\t Validation Loss: 0.3762767891891582\n",
      "Validation Loss Decreased(41.661859--->39.885340) \t Saving The Model\n"
     ]
    },
    {
     "name": "stderr",
     "output_type": "stream",
     "text": [
      " 14%|█▍        | 14/100 [1:16:43<7:35:46, 317.98s/it]"
     ]
    },
    {
     "name": "stdout",
     "output_type": "stream",
     "text": [
      "Epoch 14 \t\t Training Loss: 0.09238680117139286 \t\t Validation Loss: 0.41453803383376236\n",
      "Epoch 15 \t\t Training Loss: 0.09699076529500167 \t\t Validation Loss: 0.3444838309836275\n",
      "Validation Loss Decreased(39.885340--->36.515286) \t Saving The Model\n"
     ]
    },
    {
     "name": "stderr",
     "output_type": "stream",
     "text": [
      " 16%|█▌        | 16/100 [1:27:16<7:24:10, 317.26s/it]"
     ]
    },
    {
     "name": "stdout",
     "output_type": "stream",
     "text": [
      "Epoch 16 \t\t Training Loss: 0.053399149515246463 \t\t Validation Loss: 0.47991418268724856\n"
     ]
    },
    {
     "name": "stderr",
     "output_type": "stream",
     "text": [
      " 17%|█▋        | 17/100 [1:32:33<7:18:35, 317.05s/it]"
     ]
    },
    {
     "name": "stdout",
     "output_type": "stream",
     "text": [
      "Epoch 17 \t\t Training Loss: 0.08703768690331624 \t\t Validation Loss: 0.41032980723341683\n"
     ]
    },
    {
     "name": "stderr",
     "output_type": "stream",
     "text": [
      " 18%|█▊        | 18/100 [1:37:49<7:13:01, 316.85s/it]"
     ]
    },
    {
     "name": "stdout",
     "output_type": "stream",
     "text": [
      "Epoch 18 \t\t Training Loss: 0.08372774723215876 \t\t Validation Loss: 0.4426028108276989\n",
      "Epoch 19 \t\t Training Loss: 0.05815370161720209 \t\t Validation Loss: 0.3390442922663049\n",
      "Validation Loss Decreased(36.515286--->35.938695) \t Saving The Model\n"
     ]
    },
    {
     "name": "stderr",
     "output_type": "stream",
     "text": [
      " 20%|██        | 20/100 [1:48:22<7:02:14, 316.68s/it]"
     ]
    },
    {
     "name": "stdout",
     "output_type": "stream",
     "text": [
      "Epoch 20 \t\t Training Loss: 0.04069681342599714 \t\t Validation Loss: 0.3859053892786351\n"
     ]
    },
    {
     "name": "stderr",
     "output_type": "stream",
     "text": [
      " 21%|██        | 21/100 [1:53:39<6:56:48, 316.57s/it]"
     ]
    },
    {
     "name": "stdout",
     "output_type": "stream",
     "text": [
      "Epoch 21 \t\t Training Loss: 0.05198013284400356 \t\t Validation Loss: 0.36476022653931855\n"
     ]
    },
    {
     "name": "stderr",
     "output_type": "stream",
     "text": [
      " 22%|██▏       | 22/100 [1:58:54<6:51:18, 316.39s/it]"
     ]
    },
    {
     "name": "stdout",
     "output_type": "stream",
     "text": [
      "Epoch 22 \t\t Training Loss: 0.06615373780995679 \t\t Validation Loss: 0.5207840129118061\n"
     ]
    },
    {
     "name": "stderr",
     "output_type": "stream",
     "text": [
      " 23%|██▎       | 23/100 [2:04:11<6:46:14, 316.56s/it]"
     ]
    },
    {
     "name": "stdout",
     "output_type": "stream",
     "text": [
      "Epoch 23 \t\t Training Loss: 0.06730880862969271 \t\t Validation Loss: 0.3869161501895847\n"
     ]
    },
    {
     "name": "stderr",
     "output_type": "stream",
     "text": [
      " 23%|██▎       | 23/100 [2:09:28<7:13:26, 337.74s/it]"
     ]
    },
    {
     "name": "stdout",
     "output_type": "stream",
     "text": [
      "Epoch 24 \t\t Training Loss: 0.03457599275206231 \t\t Validation Loss: 0.34937140782185794\n",
      "Training stopped\n"
     ]
    },
    {
     "name": "stderr",
     "output_type": "stream",
     "text": [
      "\n"
     ]
    }
   ],
   "source": [
    "for i in range(len(k_fold_val)):\n",
    "    resnet_101 = model.Model(resnet101(ResNet101_Weights.IMAGENET1K_V2).to('cuda'))\n",
    "    print(f'{i}-k Fold')\n",
    "    train_model.train_model(k_fold_train[i], k_fold_val[i], resnet_101, f'models/models_weights/k_fold_models/resnet101_non_diagnostc_{i}.pth', epochs=100)\n",
    "    del resnet_101"
   ]
  },
  {
   "cell_type": "code",
   "execution_count": null,
   "metadata": {},
   "outputs": [],
   "source": []
  }
 ],
 "metadata": {
  "kernelspec": {
   "display_name": "Babylon",
   "language": "python",
   "name": "python3"
  },
  "language_info": {
   "codemirror_mode": {
    "name": "ipython",
    "version": 3
   },
   "file_extension": ".py",
   "mimetype": "text/x-python",
   "name": "python",
   "nbconvert_exporter": "python",
   "pygments_lexer": "ipython3",
   "version": "3.11.4"
  },
  "orig_nbformat": 4
 },
 "nbformat": 4,
 "nbformat_minor": 2
}
