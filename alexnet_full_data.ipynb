{
 "cells": [
  {
   "cell_type": "code",
   "execution_count": 11,
   "metadata": {},
   "outputs": [],
   "source": [
    "from models import model, train_model\n",
    "from torchvision.models import alexnet, AlexNet_Weights\n",
    "from torchvision.datasets import ImageFolder\n",
    "from sklearn.model_selection import train_test_split\n",
    "from torch.utils.data import Subset\n",
    "import numpy as np\n",
    "np.random.seed(0)\n",
    "import torch"
   ]
  },
  {
   "cell_type": "code",
   "execution_count": 3,
   "metadata": {},
   "outputs": [
    {
     "name": "stderr",
     "output_type": "stream",
     "text": [
      "e:\\Anaconda\\envs\\Babylon\\Lib\\site-packages\\torchvision\\models\\_utils.py:135: UserWarning: Using 'weights' as positional parameter(s) is deprecated since 0.13 and may be removed in the future. Please use keyword parameter(s) instead.\n",
      "  warnings.warn(\n"
     ]
    }
   ],
   "source": [
    "alex_net = model.Model(alexnet(AlexNet_Weights.IMAGENET1K_V1).to('cuda'))\n"
   ]
  },
  {
   "cell_type": "code",
   "execution_count": 4,
   "metadata": {},
   "outputs": [],
   "source": [
    "data = ImageFolder('data_retrieval/data_full', AlexNet_Weights.IMAGENET1K_V1.transforms())"
   ]
  },
  {
   "cell_type": "code",
   "execution_count": 5,
   "metadata": {},
   "outputs": [],
   "source": [
    "targets = data.targets\n",
    "train_indices, test_val_indices = train_test_split(np.arange(len(targets)), stratify=targets, train_size=0.65, random_state=21)\n",
    "train_data = Subset(data, indices=train_indices)\n",
    "val_test_data = Subset(data, indices=test_val_indices)\n",
    "targets = np.array(targets)\n",
    "test_val_targets = targets[test_val_indices]\n",
    "test_indices, val_indices = train_test_split(test_val_indices, stratify=test_val_targets, train_size=0.57, random_state=21)\n",
    "val_data, test_data = Subset(data, indices=val_indices), Subset(data, indices=test_indices)"
   ]
  },
  {
   "cell_type": "code",
   "execution_count": 6,
   "metadata": {},
   "outputs": [
    {
     "name": "stdout",
     "output_type": "stream",
     "text": [
      "Length of train set: 14528\n",
      "Length of val set: 3365\n",
      "Length of test set: 4459\n"
     ]
    }
   ],
   "source": [
    "print(\"Length of train set:\", len(train_data))\n",
    "print(\"Length of val set:\", len(val_data))\n",
    "print(\"Length of test set:\", len(test_data))"
   ]
  },
  {
   "cell_type": "code",
   "execution_count": 19,
   "metadata": {},
   "outputs": [],
   "source": [
    "from collections import Counter\n",
    "labels_count = Counter()\n",
    "for image, label in val_data:\n",
    "    labels_count[label] += 1"
   ]
  },
  {
   "cell_type": "code",
   "execution_count": 20,
   "metadata": {},
   "outputs": [
    {
     "name": "stdout",
     "output_type": "stream",
     "text": [
      "Counter({3: 206, 1: 202, 9: 196, 13: 183, 43: 130, 29: 127, 31: 127, 23: 126, 25: 118, 45: 101, 19: 97, 27: 90, 49: 88, 35: 84, 5: 83, 33: 77, 17: 75, 47: 72, 39: 66, 11: 66, 21: 61, 0: 61, 41: 59, 37: 56, 8: 48, 15: 47, 7: 47, 2: 44, 24: 41, 6: 41, 12: 38, 16: 36, 22: 34, 4: 34, 32: 30, 28: 28, 14: 28, 44: 28, 34: 27, 48: 27, 42: 27, 26: 26, 38: 24, 40: 24, 20: 24, 30: 23, 46: 23, 18: 22, 10: 22, 36: 21})\n"
     ]
    }
   ],
   "source": [
    "print(labels_count)"
   ]
  },
  {
   "cell_type": "code",
   "execution_count": 7,
   "metadata": {},
   "outputs": [
    {
     "name": "stderr",
     "output_type": "stream",
     "text": [
      "  0%|          | 0/100 [00:00<?, ?it/s]"
     ]
    },
    {
     "name": "stdout",
     "output_type": "stream",
     "text": [
      "Epoch 1 \t\t Training Loss: 3.762148824294758 \t\t Validation Loss: 3.699489099719513\n",
      "Validation Loss Decreased(inf--->780.592200) \t Saving The Model\n"
     ]
    },
    {
     "name": "stderr",
     "output_type": "stream",
     "text": [
      "  1%|          | 1/100 [01:36<2:39:00, 96.37s/it]"
     ]
    },
    {
     "name": "stdout",
     "output_type": "stream",
     "text": [
      "Epoch 2 \t\t Training Loss: 3.6961761211508697 \t\t Validation Loss: 3.6875835459379225\n",
      "Validation Loss Decreased(780.592200--->778.080128) \t Saving The Model\n"
     ]
    },
    {
     "name": "stderr",
     "output_type": "stream",
     "text": [
      "  2%|▏         | 2/100 [02:47<2:13:05, 81.48s/it]"
     ]
    },
    {
     "name": "stdout",
     "output_type": "stream",
     "text": [
      "Epoch 3 \t\t Training Loss: 3.705537201286938 \t\t Validation Loss: 3.6829081124039056\n",
      "Validation Loss Decreased(778.080128--->777.093612) \t Saving The Model\n"
     ]
    },
    {
     "name": "stderr",
     "output_type": "stream",
     "text": [
      "  4%|▍         | 4/100 [05:07<1:58:04, 73.80s/it]"
     ]
    },
    {
     "name": "stdout",
     "output_type": "stream",
     "text": [
      "Epoch 4 \t\t Training Loss: 3.6892008626513544 \t\t Validation Loss: 3.6829867283879865\n",
      "Epoch 5 \t\t Training Loss: 3.6866363370996216 \t\t Validation Loss: 3.681157572009552\n",
      "Validation Loss Decreased(777.093612--->776.724248) \t Saving The Model\n"
     ]
    },
    {
     "name": "stderr",
     "output_type": "stream",
     "text": [
      "  6%|▌         | 6/100 [07:32<1:54:29, 73.08s/it]"
     ]
    },
    {
     "name": "stdout",
     "output_type": "stream",
     "text": [
      "Epoch 6 \t\t Training Loss: 3.6857167096390073 \t\t Validation Loss: 3.6834517519620924\n",
      "Epoch 7 \t\t Training Loss: 3.6843590381912197 \t\t Validation Loss: 3.6809034291036884\n",
      "Validation Loss Decreased(776.724248--->776.670624) \t Saving The Model\n"
     ]
    },
    {
     "name": "stderr",
     "output_type": "stream",
     "text": [
      "  7%|▋         | 7/100 [08:45<1:52:59, 72.90s/it]"
     ]
    },
    {
     "name": "stdout",
     "output_type": "stream",
     "text": [
      "Epoch 8 \t\t Training Loss: 3.684038927901684 \t\t Validation Loss: 3.6792244221926866\n",
      "Validation Loss Decreased(776.670624--->776.316353) \t Saving The Model\n"
     ]
    },
    {
     "name": "stderr",
     "output_type": "stream",
     "text": [
      "  9%|▉         | 9/100 [11:16<1:52:35, 74.24s/it]"
     ]
    },
    {
     "name": "stdout",
     "output_type": "stream",
     "text": [
      "Epoch 9 \t\t Training Loss: 3.682824484577263 \t\t Validation Loss: 3.6796044670575037\n",
      "Epoch 10 \t\t Training Loss: 3.68237761516403 \t\t Validation Loss: 3.6779140974108078\n",
      "Validation Loss Decreased(776.316353--->776.039875) \t Saving The Model\n"
     ]
    },
    {
     "name": "stderr",
     "output_type": "stream",
     "text": [
      " 11%|█         | 11/100 [13:47<1:51:02, 74.86s/it]"
     ]
    },
    {
     "name": "stdout",
     "output_type": "stream",
     "text": [
      "Epoch 11 \t\t Training Loss: 3.681541366986766 \t\t Validation Loss: 3.67867909901515\n"
     ]
    },
    {
     "name": "stderr",
     "output_type": "stream",
     "text": [
      " 12%|█▏        | 12/100 [15:02<1:49:44, 74.83s/it]"
     ]
    },
    {
     "name": "stdout",
     "output_type": "stream",
     "text": [
      "Epoch 12 \t\t Training Loss: 3.6813157421376737 \t\t Validation Loss: 3.6803919681440598\n"
     ]
    },
    {
     "name": "stderr",
     "output_type": "stream",
     "text": [
      " 13%|█▎        | 13/100 [16:17<1:48:39, 74.94s/it]"
     ]
    },
    {
     "name": "stdout",
     "output_type": "stream",
     "text": [
      "Epoch 13 \t\t Training Loss: 3.6816373806167806 \t\t Validation Loss: 3.678673269624394\n",
      "Epoch 14 \t\t Training Loss: 3.680840315010054 \t\t Validation Loss: 3.6774252952557602\n",
      "Validation Loss Decreased(776.039875--->775.936737) \t Saving The Model\n"
     ]
    },
    {
     "name": "stderr",
     "output_type": "stream",
     "text": [
      " 14%|█▍        | 14/100 [17:34<1:48:11, 75.49s/it]"
     ]
    },
    {
     "name": "stdout",
     "output_type": "stream",
     "text": [
      "Epoch 15 \t\t Training Loss: 3.680874989421357 \t\t Validation Loss: 3.6770601487272723\n",
      "Validation Loss Decreased(775.936737--->775.859691) \t Saving The Model\n"
     ]
    },
    {
     "name": "stderr",
     "output_type": "stream",
     "text": [
      " 16%|█▌        | 16/100 [20:06<1:45:55, 75.66s/it]"
     ]
    },
    {
     "name": "stdout",
     "output_type": "stream",
     "text": [
      "Epoch 16 \t\t Training Loss: 3.681110424879889 \t\t Validation Loss: 3.677552788178503\n",
      "Epoch 17 \t\t Training Loss: 3.6807746406693815 \t\t Validation Loss: 3.6763281946498636\n",
      "Validation Loss Decreased(775.859691--->775.705249) \t Saving The Model\n"
     ]
    },
    {
     "name": "stderr",
     "output_type": "stream",
     "text": [
      " 18%|█▊        | 18/100 [22:38<1:43:32, 75.76s/it]"
     ]
    },
    {
     "name": "stdout",
     "output_type": "stream",
     "text": [
      "Epoch 18 \t\t Training Loss: 3.6800984908305603 \t\t Validation Loss: 3.67732258543584\n"
     ]
    },
    {
     "name": "stderr",
     "output_type": "stream",
     "text": [
      " 19%|█▉        | 19/100 [23:58<1:44:15, 77.23s/it]"
     ]
    },
    {
     "name": "stdout",
     "output_type": "stream",
     "text": [
      "Epoch 19 \t\t Training Loss: 3.6801489833167995 \t\t Validation Loss: 3.680029371903406\n"
     ]
    },
    {
     "name": "stderr",
     "output_type": "stream",
     "text": [
      " 20%|██        | 20/100 [25:25<1:46:41, 80.02s/it]"
     ]
    },
    {
     "name": "stdout",
     "output_type": "stream",
     "text": [
      "Epoch 20 \t\t Training Loss: 3.6799461943987706 \t\t Validation Loss: 3.677528634455532\n"
     ]
    },
    {
     "name": "stderr",
     "output_type": "stream",
     "text": [
      " 21%|██        | 21/100 [26:50<1:47:34, 81.70s/it]"
     ]
    },
    {
     "name": "stdout",
     "output_type": "stream",
     "text": [
      "Epoch 21 \t\t Training Loss: 3.679921564551702 \t\t Validation Loss: 3.677394115529354\n"
     ]
    },
    {
     "name": "stderr",
     "output_type": "stream",
     "text": [
      " 21%|██        | 21/100 [28:13<1:46:11, 80.65s/it]"
     ]
    },
    {
     "name": "stdout",
     "output_type": "stream",
     "text": [
      "Epoch 22 \t\t Training Loss: 3.6799188700016376 \t\t Validation Loss: 3.677047130620875\n",
      "Training stopped\n"
     ]
    },
    {
     "name": "stderr",
     "output_type": "stream",
     "text": [
      "\n"
     ]
    }
   ],
   "source": [
    "train_model.train_model(train_data,val_data , alex_net, f'models/models_weights/alexnet_full.pth', epochs=100)"
   ]
  },
  {
   "cell_type": "code",
   "execution_count": 8,
   "metadata": {},
   "outputs": [],
   "source": [
    "idx_to_class = {v: k for k, v in test_data.dataset.class_to_idx.items()}"
   ]
  },
  {
   "cell_type": "code",
   "execution_count": 12,
   "metadata": {},
   "outputs": [],
   "source": [
    "test_loader = torch.utils.data.DataLoader(test_data,\n",
    "                                             batch_size=16, shuffle=True,\n",
    "                                             num_workers=4)"
   ]
  },
  {
   "cell_type": "code",
   "execution_count": 17,
   "metadata": {},
   "outputs": [],
   "source": [
    "correct_pred = {classname: 0 for classname in idx_to_class}\n",
    "total_pred = {classname: 0 for classname in idx_to_class}\n",
    "with torch.no_grad():\n",
    "    for data in test_loader:\n",
    "        images, labels = data\n",
    "        images = images.to('cuda')\n",
    "        labels = labels.to('cuda')\n",
    "        outputs = alex_net.model(images)\n",
    "        _, predictions = torch.max(outputs, 1)\n",
    "        for label, prediction in zip(labels, predictions):\n",
    "            if idx_to_class[int(label)] == idx_to_class[(int(prediction))]:\n",
    "                correct_pred[int(label)] += 1\n",
    "            total_pred[int(label)] += 1"
   ]
  },
  {
   "cell_type": "code",
   "execution_count": 18,
   "metadata": {},
   "outputs": [
    {
     "name": "stdout",
     "output_type": "stream",
     "text": [
      "Accuracy for class: AN_Neo-Assyrian is 0.0 %\n",
      "Accuracy for class: AN_Neo-Babylonian is 99.3 %\n",
      "Accuracy for class: A_Neo-Assyrian is 0.0 %\n",
      "Accuracy for class: A_Neo-Babylonian is 0.4 %\n",
      "Accuracy for class: AŠ_Neo-Assyrian is 0.0 %\n",
      "Accuracy for class: AŠ_Neo-Babylonian is 0.0 %\n",
      "Accuracy for class: BAD_Neo-Assyrian is 0.0 %\n",
      "Accuracy for class: BAD_Neo-Babylonian is 0.0 %\n",
      "Accuracy for class: DIŠ_Neo-Assyrian is 0.0 %\n",
      "Accuracy for class: DIŠ_Neo-Babylonian is 0.0 %\n",
      "Accuracy for class: E_Neo-Assyrian is 0.0 %\n",
      "Accuracy for class: E_Neo-Babylonian is 0.0 %\n",
      "Accuracy for class: GAR_Neo-Assyrian is 0.0 %\n",
      "Accuracy for class: GAR_Neo-Babylonian is 0.0 %\n",
      "Accuracy for class: GIŠ_Neo-Assyrian is 0.0 %\n",
      "Accuracy for class: GIŠ_Neo-Babylonian is 0.0 %\n",
      "Accuracy for class: IGI_Neo-Assyrian is 0.0 %\n",
      "Accuracy for class: IGI_Neo-Babylonian is 0.0 %\n",
      "Accuracy for class: I_Neo-Assyrian is 0.0 %\n",
      "Accuracy for class: I_Neo-Babylonian is 0.0 %\n",
      "Accuracy for class: KA_Neo-Assyrian is 0.0 %\n",
      "Accuracy for class: KA_Neo-Babylonian is 0.0 %\n",
      "Accuracy for class: KI_Neo-Assyrian is 0.0 %\n",
      "Accuracy for class: KI_Neo-Babylonian is 0.0 %\n",
      "Accuracy for class: MA_Neo-Assyrian is 0.0 %\n",
      "Accuracy for class: MA_Neo-Babylonian is 0.0 %\n",
      "Accuracy for class: MEŠ_Neo-Assyrian is 0.0 %\n",
      "Accuracy for class: MEŠ_Neo-Babylonian is 0.0 %\n",
      "Accuracy for class: MU_Neo-Assyrian is 0.0 %\n",
      "Accuracy for class: MU_Neo-Babylonian is 0.0 %\n",
      "Accuracy for class: NA_Neo-Assyrian is 0.0 %\n",
      "Accuracy for class: NA_Neo-Babylonian is 0.0 %\n",
      "Accuracy for class: NI_Neo-Assyrian is 0.0 %\n",
      "Accuracy for class: NI_Neo-Babylonian is 0.0 %\n",
      "Accuracy for class: NU_Neo-Assyrian is 0.0 %\n",
      "Accuracy for class: NU_Neo-Babylonian is 0.0 %\n",
      "Accuracy for class: RU_Neo-Assyrian is 0.0 %\n",
      "Accuracy for class: RU_Neo-Babylonian is 0.0 %\n",
      "Accuracy for class: TA_Neo-Assyrian is 0.0 %\n",
      "Accuracy for class: TA_Neo-Babylonian is 0.0 %\n",
      "Accuracy for class: TI_Neo-Assyrian is 0.0 %\n",
      "Accuracy for class: TI_Neo-Babylonian is 0.0 %\n",
      "Accuracy for class: UD_Neo-Assyrian is 0.0 %\n",
      "Accuracy for class: UD_Neo-Babylonian is 0.0 %\n",
      "Accuracy for class: U₂_Neo-Assyrian is 0.0 %\n",
      "Accuracy for class: U₂_Neo-Babylonian is 0.0 %\n",
      "Accuracy for class: ŠU_Neo-Assyrian is 0.0 %\n",
      "Accuracy for class: ŠU_Neo-Babylonian is 0.0 %\n",
      "Accuracy for class: ŠU₂_Neo-Assyrian is 0.0 %\n",
      "Accuracy for class: ŠU₂_Neo-Babylonian is 0.0 %\n"
     ]
    }
   ],
   "source": [
    "for classname, correct_count in correct_pred.items():\n",
    "    accuracy = 100 * float(correct_count) / total_pred[classname]\n",
    "    print(f'Accuracy for class: {idx_to_class[classname]:5s} is {accuracy:.1f} %')"
   ]
  },
  {
   "cell_type": "code",
   "execution_count": null,
   "metadata": {},
   "outputs": [],
   "source": []
  }
 ],
 "metadata": {
  "kernelspec": {
   "display_name": "Babylon",
   "language": "python",
   "name": "python3"
  },
  "language_info": {
   "codemirror_mode": {
    "name": "ipython",
    "version": 3
   },
   "file_extension": ".py",
   "mimetype": "text/x-python",
   "name": "python",
   "nbconvert_exporter": "python",
   "pygments_lexer": "ipython3",
   "version": "3.11.4"
  },
  "orig_nbformat": 4
 },
 "nbformat": 4,
 "nbformat_minor": 2
}
